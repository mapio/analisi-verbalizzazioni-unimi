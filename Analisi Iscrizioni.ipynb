{
 "cells": [
  {
   "cell_type": "markdown",
   "id": "seeing-thanksgiving",
   "metadata": {},
   "source": [
    "# Analisi iscrizioni\n",
    "\n",
    "Questo *notebook* consente di ottenere la \"storia\" della partecipazione all'esame degli studenti iscritti ad un determinato apello a partire dai verbali estratti tramite le funzione *Archivio verbali ed esiti finali* e *Lista appelli ed Iscritti* dell'applicazione [B.O. Docent](https://work.unimi.it/boDocenti/); più in generale consente di svolgere le analisi a partire da un qualunque elenco di verbali d'esame che registrino, per ciascuna prova, la *data* in cui è avvenuta, il numero di *matricola* dello studente (o un qualunque identificatore unico del medesimo) e l'*esito* della prova, nonché da un elenco di iscrizioni che registrino, per ciascuna iscrizione, il numero di *matricola*, *cognome* e *nome* dello studente\n",
    "\n",
    "Per sapere come installare il software necessario ad eseguirlo seguite le istruzioni contenute nel `README.md` del repository che contiene il notebook."
   ]
  },
  {
   "cell_type": "code",
   "execution_count": null,
   "id": "hybrid-manor",
   "metadata": {},
   "outputs": [],
   "source": [
    "# importazione delle librerie necessarie\n",
    "\n",
    "import pandas as pd\n",
    "from ipywidgets import widgets"
   ]
  },
  {
   "cell_type": "markdown",
   "id": "intended-bloom",
   "metadata": {},
   "source": [
    "## Lettura e preparazione dei dati\n",
    "\n",
    "In questa sezione vengono caricati e \"normalizzati\" i dati che si assume siano stati ottenuti dall'esportazione sopra descritta e salvanti in un file il cui nome è memorizzato nella variabile `file_verbali`.\n",
    "\n",
    "Eseguita l'ultima cella di questa sezione i dati saranno contenuti nella variabile `verbali` che corrisponderà ad un *data-frame* di Pandas contenente le colonne: `Inesegnamento`, `Appello`, `Matricola` ed `Esito` ed ordinato per data dell'appello (l'ordine è rilevante per le aggregazioni delle prossime sezioni). Il contenuto della colonna `Eisto` è una *stringa* che codifica l'esito della prova come segue:\n",
    "\n",
    "* `RI` corrisponde ad un ritiro,\n",
    "* `RE` indica che la prova non è stata superata (ossia che l'allievo è stato respinto),\n",
    "* un stringa contenente un numero intero corrisponde ad un esito verbalizzato (la stringa `33` corrisponde al voto 30 e lode),\n",
    "* una stringa contenente un numero intero prefissato dal simbolo `~` corrisponde ad un esito rifiutato. "
   ]
  },
  {
   "cell_type": "code",
   "execution_count": null,
   "id": "hourly-protein",
   "metadata": {},
   "outputs": [],
   "source": [
    "file_verbali = 'verbali-esami.xls'"
   ]
  },
  {
   "cell_type": "code",
   "execution_count": null,
   "id": "accompanied-forward",
   "metadata": {},
   "outputs": [],
   "source": [
    "def vse2e(voto, stato_esito):\n",
    "    if stato_esito == 'Rifiutato': return '~' + voto\n",
    "    if voto == 'Respinto': return 'RE'\n",
    "    if voto == 'Ritirato': return 'RI'\n",
    "    if voto == '30 e lode': return '33'\n",
    "    return voto\n",
    "\n",
    "verbali = pd.read_excel(file_verbali).apply(lambda _: pd.Series({\n",
    "    'Insegnamento': _['Descrizione insegnamento'],\n",
    "    'Appello': _['Data appello'],\n",
    "    'Matricola': _['Matricola'], \n",
    "    'Esito': vse2e(_['Voto'], _['Stato Esito'])\n",
    "}), axis = 1).sort_values('Appello')"
   ]
  },
  {
   "cell_type": "code",
   "execution_count": null,
   "id": "missing-advancement",
   "metadata": {},
   "outputs": [],
   "source": [
    "# vengono riportate alcune linee a scopo di esempio\n",
    "\n",
    "verbali.head()"
   ]
  },
  {
   "cell_type": "markdown",
   "id": "7769b874",
   "metadata": {},
   "source": [
    "Similmente, vengono caricati e \"normalizzati\" i dati che si assume siano stati ottenuti dall'esportazione sopra descritta e salvanti in un file il cui nome è memorizzato nella variabile `file_iscrizioni`.\n",
    "\n",
    "Eseguita l'ultima cella di questa sezione i dati saranno contenuti nella variabile `iscrizioni` che corrisponderà ad un *data-frame* di Pandas contenente le colonne: `Cognome`, `Nome`, indiizzato per `Matricola` "
   ]
  },
  {
   "cell_type": "code",
   "execution_count": null,
   "id": "03eaf108",
   "metadata": {},
   "outputs": [],
   "source": [
    "file_iscrizioni = 'iscrizioni.xls'"
   ]
  },
  {
   "cell_type": "code",
   "execution_count": null,
   "id": "021c4814",
   "metadata": {},
   "outputs": [],
   "source": [
    "iscrizioni = pd.read_excel(file_iscrizioni, dtype = {'Matricola': object})[['Matricola', 'Cognome', 'Nome']].set_index('Matricola')"
   ]
  },
  {
   "cell_type": "code",
   "execution_count": null,
   "id": "5b911320",
   "metadata": {},
   "outputs": [],
   "source": [
    "# vengono riportate alcune linee a scopo di esempio\n",
    "\n",
    "iscrizioni.head()"
   ]
  },
  {
   "cell_type": "markdown",
   "id": "fac1fc67",
   "metadata": {},
   "source": [
    "# La storia di ciascun iscritto\n",
    "\n",
    "Per \"storia\" di un iscritti si intende l'eventuale sequenza di esiti conseguiti in precedenti appelli del medesimo insegnamento, il cui nome è dato dalla variabile `nome_insegnamento`; la valutazione delle prossime celle produce, per ciascun numero di matricola presente nell'elenco di iscrizioni, una stringa ottenuta giustapponendo gli esiti precedenti, oppure la stringa `NI` (che significa \"nuovo iscritto\", ossia matricola a cui non corrisponde alcun verbale)."
   ]
  },
  {
   "cell_type": "code",
   "execution_count": null,
   "id": "0ba49c7d",
   "metadata": {},
   "outputs": [],
   "source": [
    "nome_insegnamento = 'PROGRAMMAZIONE II'"
   ]
  },
  {
   "cell_type": "code",
   "execution_count": null,
   "id": "0e2fb892",
   "metadata": {},
   "outputs": [],
   "source": [
    "storia = ( verbali[verbali.Insegnamento == nome_insegnamento]\n",
    "            .merge(iscrizioni, on = 'Matricola', how = 'right')\n",
    "            .fillna('NI').groupby('Matricola').Esito\n",
    "            .agg(lambda _: ', '.join(_)) )\n",
    "storia.name = 'Storia'"
   ]
  },
  {
   "cell_type": "code",
   "execution_count": null,
   "id": "8e02d784",
   "metadata": {},
   "outputs": [],
   "source": [
    "# un controllo circa il fatto che il numero di \"storie\" corrisponda a quello degli iscritti\n",
    "\n",
    "storia.shape[0] == iscrizioni.shape[0]"
   ]
  },
  {
   "cell_type": "code",
   "execution_count": null,
   "id": "bfb5ed7e",
   "metadata": {},
   "outputs": [],
   "source": [
    "# riconcilare storia e iscrizioni\n",
    "\n",
    "storia_iscrizioni = iscrizioni.join(storia).sort_values('Matricola')"
   ]
  },
  {
   "cell_type": "code",
   "execution_count": null,
   "id": "b98b768e",
   "metadata": {},
   "outputs": [],
   "source": [
    "# come tabella, colorando le righe dei nuovi iscritti\n",
    "\n",
    "storia_iscrizioni.style.apply((lambda _: ['background-color: lightyellow']*3 if _.Storia == 'NI' else ['']*3), axis = 1)"
   ]
  }
 ],
 "metadata": {
  "kernelspec": {
   "display_name": "Python 3",
   "language": "python",
   "name": "python3"
  },
  "language_info": {
   "codemirror_mode": {
    "name": "ipython",
    "version": 3
   },
   "file_extension": ".py",
   "mimetype": "text/x-python",
   "name": "python",
   "nbconvert_exporter": "python",
   "pygments_lexer": "ipython3",
   "version": "3.8.5"
  }
 },
 "nbformat": 4,
 "nbformat_minor": 5
}
