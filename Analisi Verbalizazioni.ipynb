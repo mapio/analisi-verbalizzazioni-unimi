{
 "cells": [
  {
   "cell_type": "markdown",
   "id": "seeing-thanksgiving",
   "metadata": {},
   "source": [
    "# Analisi verbalizzazioni\n",
    "\n",
    "Questo *notebook* consente di svolgere alcune semplici analisi a partire dai verbali estratti tramite la funzione [Archivio verbali ed esiti finali](https://work.unimi.it/boDocenti/wicket/page?3) dell'applicazione [B.O. Docent](https://work.unimi.it/boDocenti/); più in generale consente di svolgere le analisi a partire da un qualunque elenco di verbali d'esame che registrino, per ciascuna prova, l'*insegnamento* a cui si riferisce, la *data* in cui è avvenuta, il numero di *matricola* dello studente (o un qualunque identificatore unico del medesimo) e l'*esito* della prova.\n",
    "\n",
    "Per sapere come installare il software necessario ad eseguirlo seguite le istruzioni contenute nel `README.md` del repository che contiene il notebook."
   ]
  },
  {
   "cell_type": "code",
   "execution_count": 1,
   "id": "hybrid-manor",
   "metadata": {},
   "outputs": [],
   "source": [
    "# importazione delle librerie necessarie\n",
    "\n",
    "import pandas as pd\n",
    "from ipywidgets import widgets"
   ]
  },
  {
   "cell_type": "markdown",
   "id": "intended-bloom",
   "metadata": {},
   "source": [
    "## Lettura e preparazione dei dati\n",
    "\n",
    "In questa sezione vengono caricati e \"normalizzati\" i dati che si assume siano stati ottenuti dall'esportazione sopra descritta e salvanti in un file il cui nome è memorizzato nella variabile `file_verbali`.\n",
    "\n",
    "Eseguita l'ultima cella di questa sezione i dati saranno contenuti nella variabile `estrazione` che corrisponderà ad un *data-frame* di Pandas contenente le colonne: `Inesegnamento`, `Appello`, `Matricola` ed `Esito` ed ordinato per data dell'appello (l'ordine è rilevante per le aggregazioni delle prossime sezioni). Il contenuto della colonna `Eisto` è una *stringa* che codifica l'esito della prova come segue:\n",
    "\n",
    "* `RI` corrisponde ad un ritiro,\n",
    "* `RE` indica che la prova non è stata superata (ossia che l'allievo è stato respinto),\n",
    "* un stringa contenente un numero intero corrisponde ad un esito verbalizzato (la stringa `33` corrisponde al voto 30 e lode),\n",
    "* una stringa contenente un numero intero prefissato dal simbolo `~` corrisponde ad un esito rifiutato. "
   ]
  },
  {
   "cell_type": "code",
   "execution_count": 2,
   "id": "hourly-protein",
   "metadata": {},
   "outputs": [],
   "source": [
    "file_verbali = 'verbali-esami.xls'"
   ]
  },
  {
   "cell_type": "code",
   "execution_count": 3,
   "id": "accompanied-forward",
   "metadata": {},
   "outputs": [],
   "source": [
    "def vse2e(voto, stato_esito):\n",
    "    if stato_esito == 'Rifiutato': return '~' + voto\n",
    "    if voto == 'Respinto': return 'RE'\n",
    "    if voto == 'Ritirato': return 'RI'\n",
    "    if voto == '30 e lode': return '33'\n",
    "    return voto\n",
    "\n",
    "estrazione = pd.read_excel(file_verbali).apply(lambda _: pd.Series({\n",
    "    'Insegnamento': _['Descrizione insegnamento'],\n",
    "    'Appello': _['Data appello'],\n",
    "    'Matricola': _['Matricola'], \n",
    "    'Esito': vse2e(_['Voto'], _['Stato Esito'])\n",
    "}), axis = 1).sort_values('Appello')"
   ]
  },
  {
   "cell_type": "code",
   "execution_count": 4,
   "id": "missing-advancement",
   "metadata": {},
   "outputs": [
    {
     "data": {
      "text/html": [
       "<div>\n",
       "<style scoped>\n",
       "    .dataframe tbody tr th:only-of-type {\n",
       "        vertical-align: middle;\n",
       "    }\n",
       "\n",
       "    .dataframe tbody tr th {\n",
       "        vertical-align: top;\n",
       "    }\n",
       "\n",
       "    .dataframe thead th {\n",
       "        text-align: right;\n",
       "    }\n",
       "</style>\n",
       "<table border=\"1\" class=\"dataframe\">\n",
       "  <thead>\n",
       "    <tr style=\"text-align: right;\">\n",
       "      <th></th>\n",
       "      <th>Insegnamento</th>\n",
       "      <th>Appello</th>\n",
       "      <th>Matricola</th>\n",
       "      <th>Esito</th>\n",
       "    </tr>\n",
       "  </thead>\n",
       "  <tbody>\n",
       "    <tr>\n",
       "      <th>378</th>\n",
       "      <td>LINGUAGGI E TRADUTTORI</td>\n",
       "      <td>2019-06-18</td>\n",
       "      <td>867234</td>\n",
       "      <td>24</td>\n",
       "    </tr>\n",
       "    <tr>\n",
       "      <th>376</th>\n",
       "      <td>LINGUAGGI E TRADUTTORI</td>\n",
       "      <td>2019-06-18</td>\n",
       "      <td>857113</td>\n",
       "      <td>24</td>\n",
       "    </tr>\n",
       "    <tr>\n",
       "      <th>377</th>\n",
       "      <td>LINGUAGGI E TRADUTTORI</td>\n",
       "      <td>2019-07-09</td>\n",
       "      <td>897293</td>\n",
       "      <td>24</td>\n",
       "    </tr>\n",
       "    <tr>\n",
       "      <th>374</th>\n",
       "      <td>LINGUAGGI E TRADUTTORI</td>\n",
       "      <td>2019-07-23</td>\n",
       "      <td>V06539</td>\n",
       "      <td>RE</td>\n",
       "    </tr>\n",
       "    <tr>\n",
       "      <th>375</th>\n",
       "      <td>LINGUAGGI E TRADUTTORI</td>\n",
       "      <td>2019-07-23</td>\n",
       "      <td>893396</td>\n",
       "      <td>30</td>\n",
       "    </tr>\n",
       "  </tbody>\n",
       "</table>\n",
       "</div>"
      ],
      "text/plain": [
       "               Insegnamento    Appello Matricola Esito\n",
       "378  LINGUAGGI E TRADUTTORI 2019-06-18    867234    24\n",
       "376  LINGUAGGI E TRADUTTORI 2019-06-18    857113    24\n",
       "377  LINGUAGGI E TRADUTTORI 2019-07-09    897293    24\n",
       "374  LINGUAGGI E TRADUTTORI 2019-07-23    V06539    RE\n",
       "375  LINGUAGGI E TRADUTTORI 2019-07-23    893396    30"
      ]
     },
     "execution_count": 4,
     "metadata": {},
     "output_type": "execute_result"
    }
   ],
   "source": [
    "# vengono riportate alcune linee a scopo di esempio\n",
    "\n",
    "estrazione.head()"
   ]
  },
  {
   "cell_type": "markdown",
   "id": "golden-trace",
   "metadata": {},
   "source": [
    "## Selezione dei dati\n",
    "\n",
    "Eseguendo le celle di questa sezione è possibile definire alcune funzioni di utilià che possono risultare comode per selezionare i dati di uno o più appelli dalla variabile `estrazioni` ottenuta in precedenza.\n",
    "\n",
    "In particolare, la prossima cella ottiene gli insegnamenti a cui si riferiscono gli esiti."
   ]
  },
  {
   "cell_type": "code",
   "execution_count": 5,
   "id": "hispanic-victim",
   "metadata": {},
   "outputs": [],
   "source": [
    "insegnamenti = sorted(set(estrazione.Insegnamento))"
   ]
  },
  {
   "cell_type": "markdown",
   "id": "indirect-recognition",
   "metadata": {},
   "source": [
    "Le prossime due funzioni consentono di ottenere l'elenco di appelli dato un insegnamento e l'elenco di verbali corrispondenti ad un certo insegnamento e appello."
   ]
  },
  {
   "cell_type": "code",
   "execution_count": 6,
   "id": "pressing-award",
   "metadata": {},
   "outputs": [],
   "source": [
    "def appelli(insegnamento):\n",
    "    return tuple(sorted(set(estrazione[estrazione.Insegnamento == insegnamento].Appello.dt.date)))\n",
    "\n",
    "def verbali(insegnamento, appelli):\n",
    "    if not isinstance(appelli, tuple): appelli = (appelli, )\n",
    "    return estrazione[(estrazione.Insegnamento == insegnamento) & estrazione.Appello.dt.date.isin(appelli)]"
   ]
  },
  {
   "cell_type": "markdown",
   "id": "studied-admission",
   "metadata": {},
   "source": [
    "La prossima cella definisce una funzione che produce una serie di *widget* utili a selezionare un sottoinsieme di verbali in funzione dell'insegnamento e dell'appello. La funzione restituisce un oggetto i cui attributi: `insegnamento`, `appello` e `verbali` sono dinamicamente aggiornati per riflettere la selezione corrente. \n",
    "\n",
    "La parte a destra dei widget riporata il numero totale di verbali selezionai ed il numero di matricola uniche presenti, tale numero è minore di quello dei verbali qualora uno o più studenti figurino iscritti a più appelli."
   ]
  },
  {
   "cell_type": "code",
   "execution_count": 7,
   "id": "contained-reducing",
   "metadata": {},
   "outputs": [
    {
     "data": {
      "application/vnd.jupyter.widget-view+json": {
       "model_id": "b2885c971123444394264fcc07816ae1",
       "version_major": 2,
       "version_minor": 0
      },
      "text/plain": [
       "HBox(children=(Select(description='Insegnamenti', options=('LINGUAGGI E TRADUTTORI', 'PROGRAMMAZIONE 1', 'PROG…"
      ]
     },
     "metadata": {},
     "output_type": "display_data"
    }
   ],
   "source": [
    "def ui():\n",
    "\n",
    "    wins = widgets.Select(description = 'Insegnamenti')\n",
    "    wapp = widgets.SelectMultiple(description = 'Appelli')\n",
    "    wlabel = widgets.HTML(description = 'Selezione')\n",
    "\n",
    "    def uwapp(change):\n",
    "        wapp.options = appelli(change.new)\n",
    "        wapp.value = wapp.options \n",
    "    wins.observe(uwapp, names = 'value')\n",
    "\n",
    "    def uselected(change):\n",
    "        sel = verbali(wins.value, wapp.value)\n",
    "        wlabel.value = \"<b>Verbali</b>: {}<br/><b>Iscritti</b>: {}\".format(len(sel), len(set(sel.Matricola)))\n",
    "    wapp.observe(uselected, names = 'value')    \n",
    "\n",
    "    wins.options = insegnamenti\n",
    "    wins.value = insegnamenti[0]\n",
    "    wapp.options = appelli(insegnamenti[0])\n",
    "    wapp.options = wapp.value\n",
    "\n",
    "    display(widgets.HBox([wins, wapp, wlabel]))\n",
    "        \n",
    "    return type('UISelection', (), {\n",
    "        'insegnamento': property(lambda _: wins.value),\n",
    "        'appelli': property(lambda _: wapp.value),\n",
    "        'verbali': property(lambda _: verbali(wins.value, wapp.value)),\n",
    "    })()\n",
    "    \n",
    "sel = ui()"
   ]
  },
  {
   "cell_type": "code",
   "execution_count": 8,
   "id": "plastic-airport",
   "metadata": {},
   "outputs": [
    {
     "data": {
      "text/html": [
       "<div>\n",
       "<style scoped>\n",
       "    .dataframe tbody tr th:only-of-type {\n",
       "        vertical-align: middle;\n",
       "    }\n",
       "\n",
       "    .dataframe tbody tr th {\n",
       "        vertical-align: top;\n",
       "    }\n",
       "\n",
       "    .dataframe thead th {\n",
       "        text-align: right;\n",
       "    }\n",
       "</style>\n",
       "<table border=\"1\" class=\"dataframe\">\n",
       "  <thead>\n",
       "    <tr style=\"text-align: right;\">\n",
       "      <th></th>\n",
       "      <th>Insegnamento</th>\n",
       "      <th>Appello</th>\n",
       "      <th>Matricola</th>\n",
       "      <th>Esito</th>\n",
       "    </tr>\n",
       "  </thead>\n",
       "  <tbody>\n",
       "    <tr>\n",
       "      <th>308</th>\n",
       "      <td>PROGRAMMAZIONE II</td>\n",
       "      <td>2020-01-21 14:30:00</td>\n",
       "      <td>922862</td>\n",
       "      <td>RE</td>\n",
       "    </tr>\n",
       "    <tr>\n",
       "      <th>307</th>\n",
       "      <td>PROGRAMMAZIONE II</td>\n",
       "      <td>2020-01-21 14:30:00</td>\n",
       "      <td>923089</td>\n",
       "      <td>~19</td>\n",
       "    </tr>\n",
       "    <tr>\n",
       "      <th>306</th>\n",
       "      <td>PROGRAMMAZIONE II</td>\n",
       "      <td>2020-01-21 14:30:00</td>\n",
       "      <td>943629</td>\n",
       "      <td>RE</td>\n",
       "    </tr>\n",
       "    <tr>\n",
       "      <th>305</th>\n",
       "      <td>PROGRAMMAZIONE II</td>\n",
       "      <td>2020-01-21 14:30:00</td>\n",
       "      <td>922735</td>\n",
       "      <td>RE</td>\n",
       "    </tr>\n",
       "    <tr>\n",
       "      <th>304</th>\n",
       "      <td>PROGRAMMAZIONE II</td>\n",
       "      <td>2020-01-21 14:30:00</td>\n",
       "      <td>922688</td>\n",
       "      <td>RE</td>\n",
       "    </tr>\n",
       "  </tbody>\n",
       "</table>\n",
       "</div>"
      ],
      "text/plain": [
       "          Insegnamento             Appello Matricola Esito\n",
       "308  PROGRAMMAZIONE II 2020-01-21 14:30:00    922862    RE\n",
       "307  PROGRAMMAZIONE II 2020-01-21 14:30:00    923089   ~19\n",
       "306  PROGRAMMAZIONE II 2020-01-21 14:30:00    943629    RE\n",
       "305  PROGRAMMAZIONE II 2020-01-21 14:30:00    922735    RE\n",
       "304  PROGRAMMAZIONE II 2020-01-21 14:30:00    922688    RE"
      ]
     },
     "execution_count": 8,
     "metadata": {},
     "output_type": "execute_result"
    }
   ],
   "source": [
    "# a titolo di esmepio, i primi verbali selezionati\n",
    "\n",
    "sel.verbali.head()"
   ]
  },
  {
   "cell_type": "markdown",
   "id": "representative-pilot",
   "metadata": {},
   "source": [
    "### Nota bene\n",
    "\n",
    "La variabile `sel` è aggiornata dinamicamente, il che significa in particolare che una volta modificate le selezioni nei widget riporatti sopra è sufficiente eseguire di nuovo *solo le celle delle seguenti sezioni* perché le relative analisi riflettano la nuova selezione."
   ]
  },
  {
   "cell_type": "markdown",
   "id": "corrected-concentration",
   "metadata": {},
   "source": [
    "## Analisi degli esiti unici\n",
    "\n",
    "Dal momento che la selezione può contenere più verbali relativi allo stesso studente, questa sezione suggerisce un modo per riassumere i diversi esiti relativi a ciascuno studente; la funzione `euniq`, dato un elenco di esiti di un assegnato studente, restituisce:\n",
    "\n",
    "* il voto (nel caso tra gli esiti sia presente una verbalizzazione), oppure\n",
    "* il più alto voto rifiutato (nel caso ci sia almeno un rifiuto tra gli esiti), oppure\n",
    "* `RE` qualora lo studente sia stato respinto almeno una volta, oppure\n",
    "* `RI` qualora lo studente si sia sempre ritirato."
   ]
  },
  {
   "cell_type": "code",
   "execution_count": 9,
   "id": "baking-medicare",
   "metadata": {},
   "outputs": [],
   "source": [
    "accetta = lambda _: _[0] in frozenset('0123456789') # determina se l'esito è stato accettato\n",
    "rifiuta = lambda _: _.startswith('~') # determina se l'esito è stato rifiutato\n",
    "\n",
    "def euniq(e):\n",
    "    v = list(filter(accetta, e.values))\n",
    "    if v: return v[0]\n",
    "    v = list(filter(rifiuta, e.values))\n",
    "    if v: return max(v)\n",
    "    if 'RE' in e.values: return 'RE'\n",
    "    if 'RI' in e.values: return 'RI'   "
   ]
  },
  {
   "cell_type": "markdown",
   "id": "activated-catering",
   "metadata": {},
   "source": [
    "Usando la funzione `euniq` per aggregare i verbali raggruppati per numero di matriola, si ottiene la variabile `esiti_unici` che contiene una *serie* con un valore per matricola."
   ]
  },
  {
   "cell_type": "code",
   "execution_count": 10,
   "id": "personalized-butter",
   "metadata": {},
   "outputs": [],
   "source": [
    "esiti_unici = sel.verbali.groupby('Matricola').Esito.agg(euniq)"
   ]
  },
  {
   "cell_type": "markdown",
   "id": "absolute-tender",
   "metadata": {},
   "source": [
    "Le due funzioni ausiliare seguenti consentono di ottenere rispettivamente un conteggio ed un istogramma degli esiti unici."
   ]
  },
  {
   "cell_type": "code",
   "execution_count": 11,
   "id": "proper-landing",
   "metadata": {},
   "outputs": [],
   "source": [
    "def count(_):\n",
    "    return pd.DataFrame({'#': _.value_counts().sort_index()}).T"
   ]
  },
  {
   "cell_type": "code",
   "execution_count": 12,
   "id": "turned-leave",
   "metadata": {},
   "outputs": [
    {
     "data": {
      "text/html": [
       "<div>\n",
       "<style scoped>\n",
       "    .dataframe tbody tr th:only-of-type {\n",
       "        vertical-align: middle;\n",
       "    }\n",
       "\n",
       "    .dataframe tbody tr th {\n",
       "        vertical-align: top;\n",
       "    }\n",
       "\n",
       "    .dataframe thead th {\n",
       "        text-align: right;\n",
       "    }\n",
       "</style>\n",
       "<table border=\"1\" class=\"dataframe\">\n",
       "  <thead>\n",
       "    <tr style=\"text-align: right;\">\n",
       "      <th></th>\n",
       "      <th>18</th>\n",
       "      <th>19</th>\n",
       "      <th>20</th>\n",
       "      <th>21</th>\n",
       "      <th>22</th>\n",
       "      <th>23</th>\n",
       "      <th>24</th>\n",
       "      <th>25</th>\n",
       "      <th>26</th>\n",
       "      <th>27</th>\n",
       "      <th>28</th>\n",
       "      <th>30</th>\n",
       "      <th>33</th>\n",
       "      <th>RE</th>\n",
       "      <th>RI</th>\n",
       "      <th>~19</th>\n",
       "    </tr>\n",
       "  </thead>\n",
       "  <tbody>\n",
       "    <tr>\n",
       "      <th>#</th>\n",
       "      <td>9</td>\n",
       "      <td>6</td>\n",
       "      <td>8</td>\n",
       "      <td>4</td>\n",
       "      <td>5</td>\n",
       "      <td>3</td>\n",
       "      <td>4</td>\n",
       "      <td>2</td>\n",
       "      <td>2</td>\n",
       "      <td>2</td>\n",
       "      <td>6</td>\n",
       "      <td>4</td>\n",
       "      <td>1</td>\n",
       "      <td>56</td>\n",
       "      <td>23</td>\n",
       "      <td>1</td>\n",
       "    </tr>\n",
       "  </tbody>\n",
       "</table>\n",
       "</div>"
      ],
      "text/plain": [
       "   18  19  20  21  22  23  24  25  26  27  28  30  33  RE  RI  ~19\n",
       "#   9   6   8   4   5   3   4   2   2   2   6   4   1  56  23    1"
      ]
     },
     "execution_count": 12,
     "metadata": {},
     "output_type": "execute_result"
    }
   ],
   "source": [
    "count(esiti_unici) # i valori riporatati sono numeri di verbali"
   ]
  },
  {
   "cell_type": "code",
   "execution_count": 13,
   "id": "permanent-photography",
   "metadata": {},
   "outputs": [],
   "source": [
    "def hist(_):\n",
    "    perc = lambda _: (10000*_/sum(_)).astype(int)/100    \n",
    "    perc(_.value_counts()).sort_index().plot.bar()"
   ]
  },
  {
   "cell_type": "code",
   "execution_count": 14,
   "id": "charitable-underwear",
   "metadata": {},
   "outputs": [
    {
     "data": {
      "image/png": "[encoded data removed]",
      "text/plain": [
       "<Figure size 432x288 with 1 Axes>"
      ]
     },
     "metadata": {
      "needs_background": "light"
     },
     "output_type": "display_data"
    }
   ],
   "source": [
    "hist(esiti_unici) # i valori sono percentuali"
   ]
  },
  {
   "cell_type": "markdown",
   "id": "olympic-burden",
   "metadata": {},
   "source": [
    "### Più succintamente\n",
    "\n",
    "Può essere utile \"semplificare\" i diversi esiti raggruppando nel valore `OK` tutti gli esiti vebralizzati e in `~` quelli rifiutati usando la funzione seguente "
   ]
  },
  {
   "cell_type": "code",
   "execution_count": 15,
   "id": "elder-class",
   "metadata": {},
   "outputs": [],
   "source": [
    "def sempl(e):\n",
    "    return 'OK' if accetta(e) else ('~' if e.startswith('~') else e)"
   ]
  },
  {
   "cell_type": "code",
   "execution_count": 16,
   "id": "identical-quest",
   "metadata": {},
   "outputs": [],
   "source": [
    "esiti_unici_sempl = esiti_unici.apply(sempl)"
   ]
  },
  {
   "cell_type": "code",
   "execution_count": 17,
   "id": "located-walter",
   "metadata": {},
   "outputs": [
    {
     "data": {
      "text/html": [
       "<div>\n",
       "<style scoped>\n",
       "    .dataframe tbody tr th:only-of-type {\n",
       "        vertical-align: middle;\n",
       "    }\n",
       "\n",
       "    .dataframe tbody tr th {\n",
       "        vertical-align: top;\n",
       "    }\n",
       "\n",
       "    .dataframe thead th {\n",
       "        text-align: right;\n",
       "    }\n",
       "</style>\n",
       "<table border=\"1\" class=\"dataframe\">\n",
       "  <thead>\n",
       "    <tr style=\"text-align: right;\">\n",
       "      <th></th>\n",
       "      <th>OK</th>\n",
       "      <th>RE</th>\n",
       "      <th>RI</th>\n",
       "      <th>~</th>\n",
       "    </tr>\n",
       "  </thead>\n",
       "  <tbody>\n",
       "    <tr>\n",
       "      <th>#</th>\n",
       "      <td>56</td>\n",
       "      <td>56</td>\n",
       "      <td>23</td>\n",
       "      <td>1</td>\n",
       "    </tr>\n",
       "  </tbody>\n",
       "</table>\n",
       "</div>"
      ],
      "text/plain": [
       "   OK  RE  RI  ~\n",
       "#  56  56  23  1"
      ]
     },
     "execution_count": 17,
     "metadata": {},
     "output_type": "execute_result"
    }
   ],
   "source": [
    "count(esiti_unici_sempl)"
   ]
  },
  {
   "cell_type": "code",
   "execution_count": 18,
   "id": "helpful-november",
   "metadata": {},
   "outputs": [
    {
     "data": {
      "image/png": "[encoded data removed]",
      "text/plain": [
       "<Figure size 432x288 with 1 Axes>"
      ]
     },
     "metadata": {
      "needs_background": "light"
     },
     "output_type": "display_data"
    }
   ],
   "source": [
    "hist(esiti_unici_sempl)"
   ]
  },
  {
   "cell_type": "markdown",
   "id": "actual-radiation",
   "metadata": {},
   "source": [
    "## La \"storia\" degli esiti (pattern)\n",
    "\n",
    "Invece di riassumere gli esiti relativi ad uno studente in un unico valore, può essere interessante conservare l'intera storia di tutti gli esiti; la cella seguente definisce la variabile `pattern` aggregando in una *tupla* gli esiti raggruppati per numero di matricola. "
   ]
  },
  {
   "cell_type": "code",
   "execution_count": 19,
   "id": "republican-exception",
   "metadata": {},
   "outputs": [],
   "source": [
    "pattern = sel.verbali.groupby('Matricola').Esito.agg(tuple)"
   ]
  },
  {
   "cell_type": "code",
   "execution_count": 20,
   "id": "daily-breakfast",
   "metadata": {},
   "outputs": [
    {
     "data": {
      "text/plain": [
       "Matricola\n",
       "903870                           (RE,)\n",
       "917221                        (RE, RE)\n",
       "922686    (RI, RI, RI, RI, RI, RI, RE)\n",
       "922688                   (RE, ~18, 25)\n",
       "922714                           (18,)\n",
       "Name: Esito, dtype: object"
      ]
     },
     "execution_count": 20,
     "metadata": {},
     "output_type": "execute_result"
    }
   ],
   "source": [
    "pattern.head() # alcuni valori d'esempio"
   ]
  },
  {
   "cell_type": "markdown",
   "id": "prostate-shelter",
   "metadata": {},
   "source": [
    "Come osservato da Paolo Boldi (che ha proposto questa aggregazione in una analisi dei risultati dell'insegnamento di \"Programmazione\"), è bene eliminare dalle storie i singoli ritiri avvenuti nell'ultimo appello."
   ]
  },
  {
   "cell_type": "code",
   "execution_count": 21,
   "id": "interstate-benchmark",
   "metadata": {},
   "outputs": [],
   "source": [
    "# le matricole degli iscritti all'ultimo appello tra quelli selezionati\n",
    "\n",
    "iscr_ultimo_appello = set(sel.verbali[sel.verbali.Appello.dt.date == sel.appelli[-1]].Matricola)\n",
    "\n",
    "# le matricole di chi ha ('RI', ) come pattern e s'è iscritto solo all'ultimo appello\n",
    "\n",
    "solo_ri_ultimo_appello = set(pattern[pattern == ('RI', )].index) & iscr_ultimo_appello"
   ]
  },
  {
   "cell_type": "code",
   "execution_count": 22,
   "id": "terminal-treatment",
   "metadata": {},
   "outputs": [],
   "source": [
    "# i pattern \"ripuliti\" secondo l'osservazione di Paolo\n",
    "\n",
    "pattern_nori = pattern[set(pattern.index) - solo_ri_ultimo_appello]"
   ]
  },
  {
   "cell_type": "code",
   "execution_count": 23,
   "id": "blank-proposal",
   "metadata": {},
   "outputs": [
    {
     "data": {
      "text/plain": [
       "(136, 132)"
      ]
     },
     "execution_count": 23,
     "metadata": {},
     "output_type": "execute_result"
    }
   ],
   "source": [
    "# un confronto tra il numero di storie e storie \"ripulite\"\n",
    "\n",
    "len(pattern), len(pattern_nori)"
   ]
  },
  {
   "cell_type": "markdown",
   "id": "amber-syndrome",
   "metadata": {},
   "source": [
    "Il primo dato interessante è la lunghezza di tali pattern, ossia il numero di volte che l'esame viene ripetuto"
   ]
  },
  {
   "cell_type": "code",
   "execution_count": 24,
   "id": "organized-fireplace",
   "metadata": {},
   "outputs": [
    {
     "data": {
      "image/png": "[encoded data removed]",
      "text/plain": [
       "<Figure size 432x288 with 1 Axes>"
      ]
     },
     "metadata": {
      "needs_background": "light"
     },
     "output_type": "display_data"
    }
   ],
   "source": [
    "hist(pattern_nori.apply(len))"
   ]
  },
  {
   "cell_type": "markdown",
   "id": "finnish-video",
   "metadata": {},
   "source": [
    "La funzione seguente consente invece di ottenere un elenco dei pattern ordinato secondo la frequenza con cui compare:"
   ]
  },
  {
   "cell_type": "code",
   "execution_count": 25,
   "id": "coated-glossary",
   "metadata": {},
   "outputs": [],
   "source": [
    "def freq(_):\n",
    "    perc = lambda _: (10000*_/sum(_)).astype(int)/100    \n",
    "    return pd.DataFrame({'%': perc(_.value_counts().sort_values(ascending = False))})"
   ]
  },
  {
   "cell_type": "code",
   "execution_count": 26,
   "id": "lonely-large",
   "metadata": {},
   "outputs": [
    {
     "data": {
      "text/html": [
       "<div>\n",
       "<style scoped>\n",
       "    .dataframe tbody tr th:only-of-type {\n",
       "        vertical-align: middle;\n",
       "    }\n",
       "\n",
       "    .dataframe tbody tr th {\n",
       "        vertical-align: top;\n",
       "    }\n",
       "\n",
       "    .dataframe thead th {\n",
       "        text-align: right;\n",
       "    }\n",
       "</style>\n",
       "<table border=\"1\" class=\"dataframe\">\n",
       "  <thead>\n",
       "    <tr style=\"text-align: right;\">\n",
       "      <th></th>\n",
       "      <th>%</th>\n",
       "    </tr>\n",
       "  </thead>\n",
       "  <tbody>\n",
       "    <tr>\n",
       "      <th>(RE,)</th>\n",
       "      <td>13.63</td>\n",
       "    </tr>\n",
       "    <tr>\n",
       "      <th>(RI,)</th>\n",
       "      <td>6.81</td>\n",
       "    </tr>\n",
       "    <tr>\n",
       "      <th>(RE, RE)</th>\n",
       "      <td>6.81</td>\n",
       "    </tr>\n",
       "    <tr>\n",
       "      <th>(RI, RI)</th>\n",
       "      <td>6.81</td>\n",
       "    </tr>\n",
       "    <tr>\n",
       "      <th>(RE, RE, RE)</th>\n",
       "      <td>4.54</td>\n",
       "    </tr>\n",
       "    <tr>\n",
       "      <th>(RI, RE, RE)</th>\n",
       "      <td>3.78</td>\n",
       "    </tr>\n",
       "    <tr>\n",
       "      <th>(RI, RE)</th>\n",
       "      <td>3.78</td>\n",
       "    </tr>\n",
       "    <tr>\n",
       "      <th>(RE, RI)</th>\n",
       "      <td>3.03</td>\n",
       "    </tr>\n",
       "    <tr>\n",
       "      <th>(RE, RE, 20)</th>\n",
       "      <td>3.03</td>\n",
       "    </tr>\n",
       "    <tr>\n",
       "      <th>(30,)</th>\n",
       "      <td>2.27</td>\n",
       "    </tr>\n",
       "  </tbody>\n",
       "</table>\n",
       "</div>"
      ],
      "text/plain": [
       "                  %\n",
       "(RE,)         13.63\n",
       "(RI,)          6.81\n",
       "(RE, RE)       6.81\n",
       "(RI, RI)       6.81\n",
       "(RE, RE, RE)   4.54\n",
       "(RI, RE, RE)   3.78\n",
       "(RI, RE)       3.78\n",
       "(RE, RI)       3.03\n",
       "(RE, RE, 20)   3.03\n",
       "(30,)          2.27"
      ]
     },
     "execution_count": 26,
     "metadata": {},
     "output_type": "execute_result"
    }
   ],
   "source": [
    "freq(pattern_nori).head(10) # ad esempio, i 10 più frequenti"
   ]
  },
  {
   "cell_type": "markdown",
   "id": "absent-tunisia",
   "metadata": {},
   "source": [
    "### Più succintamente\n",
    "\n",
    "Come nel caso precedente, prima di costruire i pattern, può aver senso raccogliere gli esiti verbalizzati e rifiutati nei due valori `OK` e `~`"
   ]
  },
  {
   "cell_type": "code",
   "execution_count": 27,
   "id": "devoted-motivation",
   "metadata": {},
   "outputs": [],
   "source": [
    "pattern_sempl = sel.verbali.Esito.map(sempl).groupby(sel.verbali.Matricola).agg(tuple)"
   ]
  },
  {
   "cell_type": "code",
   "execution_count": 28,
   "id": "billion-district",
   "metadata": {},
   "outputs": [
    {
     "data": {
      "text/plain": [
       "Matricola\n",
       "903870                           (RE,)\n",
       "917221                        (RE, RE)\n",
       "922686    (RI, RI, RI, RI, RI, RI, RE)\n",
       "922688                     (RE, ~, OK)\n",
       "922714                           (OK,)\n",
       "Name: Esito, dtype: object"
      ]
     },
     "execution_count": 28,
     "metadata": {},
     "output_type": "execute_result"
    }
   ],
   "source": [
    "pattern_sempl.head() # un esempio"
   ]
  },
  {
   "cell_type": "code",
   "execution_count": 29,
   "id": "patent-arthur",
   "metadata": {},
   "outputs": [],
   "source": [
    "# applico la stessa pulizia di prima\n",
    "\n",
    "pattern_sempl_nori = pattern_sempl[set(pattern_sempl.index) - solo_ri_ultimo_appello]"
   ]
  },
  {
   "cell_type": "code",
   "execution_count": 30,
   "id": "protecting-bristol",
   "metadata": {},
   "outputs": [
    {
     "data": {
      "text/html": [
       "<div>\n",
       "<style scoped>\n",
       "    .dataframe tbody tr th:only-of-type {\n",
       "        vertical-align: middle;\n",
       "    }\n",
       "\n",
       "    .dataframe tbody tr th {\n",
       "        vertical-align: top;\n",
       "    }\n",
       "\n",
       "    .dataframe thead th {\n",
       "        text-align: right;\n",
       "    }\n",
       "</style>\n",
       "<table border=\"1\" class=\"dataframe\">\n",
       "  <thead>\n",
       "    <tr style=\"text-align: right;\">\n",
       "      <th></th>\n",
       "      <th>%</th>\n",
       "    </tr>\n",
       "  </thead>\n",
       "  <tbody>\n",
       "    <tr>\n",
       "      <th>(OK,)</th>\n",
       "      <td>15.90</td>\n",
       "    </tr>\n",
       "    <tr>\n",
       "      <th>(RE,)</th>\n",
       "      <td>13.63</td>\n",
       "    </tr>\n",
       "    <tr>\n",
       "      <th>(RE, OK)</th>\n",
       "      <td>9.09</td>\n",
       "    </tr>\n",
       "    <tr>\n",
       "      <th>(RE, RE)</th>\n",
       "      <td>6.81</td>\n",
       "    </tr>\n",
       "    <tr>\n",
       "      <th>(RI,)</th>\n",
       "      <td>6.81</td>\n",
       "    </tr>\n",
       "    <tr>\n",
       "      <th>(RI, RI)</th>\n",
       "      <td>6.81</td>\n",
       "    </tr>\n",
       "    <tr>\n",
       "      <th>(RE, RE, OK)</th>\n",
       "      <td>6.06</td>\n",
       "    </tr>\n",
       "    <tr>\n",
       "      <th>(RE, RE, RE)</th>\n",
       "      <td>4.54</td>\n",
       "    </tr>\n",
       "    <tr>\n",
       "      <th>(RI, RE, RE)</th>\n",
       "      <td>3.78</td>\n",
       "    </tr>\n",
       "    <tr>\n",
       "      <th>(RI, OK)</th>\n",
       "      <td>3.78</td>\n",
       "    </tr>\n",
       "  </tbody>\n",
       "</table>\n",
       "</div>"
      ],
      "text/plain": [
       "                  %\n",
       "(OK,)         15.90\n",
       "(RE,)         13.63\n",
       "(RE, OK)       9.09\n",
       "(RE, RE)       6.81\n",
       "(RI,)          6.81\n",
       "(RI, RI)       6.81\n",
       "(RE, RE, OK)   6.06\n",
       "(RE, RE, RE)   4.54\n",
       "(RI, RE, RE)   3.78\n",
       "(RI, OK)       3.78"
      ]
     },
     "execution_count": 30,
     "metadata": {},
     "output_type": "execute_result"
    }
   ],
   "source": [
    "freq(pattern_sempl_nori).head(10)"
   ]
  },
  {
   "cell_type": "markdown",
   "id": "existing-charter",
   "metadata": {},
   "source": [
    "Dall'elenco dei pattern semplificati è possibile ottenere un'altra informazione interessante: il numero di volte che l'esame è stato ripetuto da coloro i quali l'hanno passato"
   ]
  },
  {
   "cell_type": "code",
   "execution_count": 31,
   "id": "norman-travel",
   "metadata": {},
   "outputs": [
    {
     "data": {
      "image/png": "[encoded data removed]",
      "text/plain": [
       "<Figure size 432x288 with 1 Axes>"
      ]
     },
     "metadata": {
      "needs_background": "light"
     },
     "output_type": "display_data"
    }
   ],
   "source": [
    "hist(pattern_sempl_nori[pattern_sempl_nori.apply(lambda _: _[-1] == 'OK')].apply(len))"
   ]
  },
  {
   "cell_type": "markdown",
   "id": "mechanical-australian",
   "metadata": {},
   "source": [
    "Altre visualizzazioni possono essere ottenute tramite la seguente funzione"
   ]
  },
  {
   "cell_type": "code",
   "execution_count": 32,
   "id": "solar-madonna",
   "metadata": {},
   "outputs": [],
   "source": [
    "def hhist(_, figsize = (6, 4)):\n",
    "    perc = lambda _: (10000*_/sum(_)).astype(int)/100    \n",
    "    perc(_.value_counts()).sort_values().plot.barh(figsize = figsize)"
   ]
  },
  {
   "cell_type": "code",
   "execution_count": 33,
   "id": "colored-minority",
   "metadata": {
    "scrolled": false
   },
   "outputs": [
    {
     "data": {
      "image/png": "[encoded data removed]",
      "text/plain": [
       "<Figure size 432x864 with 1 Axes>"
      ]
     },
     "metadata": {
      "needs_background": "light"
     },
     "output_type": "display_data"
    }
   ],
   "source": [
    "hhist(pattern_nori, (6, 12))"
   ]
  },
  {
   "cell_type": "code",
   "execution_count": 34,
   "id": "defensive-landing",
   "metadata": {},
   "outputs": [
    {
     "data": {
      "image/png": "[encoded data removed]",
      "text/plain": [
       "<Figure size 432x864 with 1 Axes>"
      ]
     },
     "metadata": {
      "needs_background": "light"
     },
     "output_type": "display_data"
    }
   ],
   "source": [
    "hhist(pattern_sempl_nori, (6, 12))"
   ]
  }
 ],
 "metadata": {
  "kernelspec": {
   "display_name": "Python 3",
   "language": "python",
   "name": "python3"
  },
  "language_info": {
   "codemirror_mode": {
    "name": "ipython",
    "version": 3
   },
   "file_extension": ".py",
   "mimetype": "text/x-python",
   "name": "python",
   "nbconvert_exporter": "python",
   "pygments_lexer": "ipython3",
   "version": "3.9.1"
  }
 },
 "nbformat": 4,
 "nbformat_minor": 5
}
