{
 "cells": [
  {
   "cell_type": "markdown",
   "id": "seeing-thanksgiving",
   "metadata": {},
   "source": [
    "# Analisi verbalizzazioni\n",
    "\n",
    "Questo *notebook* consente di svolgere alcune semplici analisi a partire dai verbali estratti tramite la funzione [Archivio verbali ed esiti finali](https://work.unimi.it/boDocenti/wicket/page?3) dell'applicazione [B.O. Docent](https://work.unimi.it/boDocenti/); più in generale consente di svolgere le analisi a partire da un qualunque elenco di verbali d'esame che registrino, per ciascuna prova, l'*insegnamento* a cui si riferisce, la *data* in cui è avvenuta, il numero di *matricola* dello studente (o un qualunque identificatore unico del medesimo) e l'*esito* della prova.\n",
    "\n",
    "Per sapere come installare il software necessario ad eseguirlo seguite le istruzioni contenute nel `README.md` del repository che contiene il notebook."
   ]
  },
  {
   "cell_type": "code",
   "execution_count": null,
   "id": "hybrid-manor",
   "metadata": {},
   "outputs": [],
   "source": [
    "# importazione delle librerie necessarie\n",
    "\n",
    "import pandas as pd\n",
    "from ipywidgets import widgets"
   ]
  },
  {
   "cell_type": "markdown",
   "id": "intended-bloom",
   "metadata": {},
   "source": [
    "## Lettura e preparazione dei dati\n",
    "\n",
    "In questa sezione vengono caricati e \"normalizzati\" i dati che si assume siano stati ottenuti dall'esportazione sopra descritta e salvanti in un file il cui nome è memorizzato nella variabile `file_verbali`.\n",
    "\n",
    "Eseguita l'ultima cella di questa sezione i dati saranno contenuti nella variabile `estrazione` che corrisponderà ad un *data-frame* di Pandas contenente le colonne: `Inesegnamento`, `Appello`, `Matricola` ed `Esito` ed ordinato per data dell'appello (l'ordine è rilevante per le aggregazioni delle prossime sezioni). Il contenuto della colonna `Eisto` è una *stringa* che codifica l'esito della prova come segue:\n",
    "\n",
    "* `RI` corrisponde ad un ritiro,\n",
    "* `RE` indica che la prova non è stata superata (ossia che l'allievo è stato respinto),\n",
    "* un stringa contenente un numero intero corrisponde ad un esito verbalizzato (la stringa `33` corrisponde al voto 30 e lode),\n",
    "* una stringa contenente un numero intero prefissato dal simbolo `~` corrisponde ad un esito rifiutato. "
   ]
  },
  {
   "cell_type": "code",
   "execution_count": null,
   "id": "hourly-protein",
   "metadata": {},
   "outputs": [],
   "source": [
    "file_verbali = 'verbali-esami.xls'"
   ]
  },
  {
   "cell_type": "code",
   "execution_count": null,
   "id": "accompanied-forward",
   "metadata": {},
   "outputs": [],
   "source": [
    "def vse2e(voto, stato_esito):\n",
    "    if stato_esito == 'Rifiutato': return '~' + voto\n",
    "    if voto == 'Respinto': return 'RE'\n",
    "    if voto == 'Ritirato': return 'RI'\n",
    "    if voto == '30 e lode': return '33'\n",
    "    return voto\n",
    "\n",
    "estrazione = pd.read_excel(file_verbali).apply(lambda _: pd.Series({\n",
    "    'Insegnamento': _['Descrizione insegnamento'],\n",
    "    'Appello': _['Data appello'],\n",
    "    'Matricola': _['Matricola'], \n",
    "    'Esito': vse2e(_['Voto'], _['Stato Esito'])\n",
    "}), axis = 1).sort_values('Appello')"
   ]
  },
  {
   "cell_type": "code",
   "execution_count": null,
   "id": "missing-advancement",
   "metadata": {},
   "outputs": [],
   "source": [
    "# vengono riportate alcune linee a scopo di esempio\n",
    "\n",
    "estrazione.head()"
   ]
  },
  {
   "cell_type": "markdown",
   "id": "golden-trace",
   "metadata": {},
   "source": [
    "## Selezione dei dati\n",
    "\n",
    "Eseguendo le celle di questa sezione è possibile definire alcune funzioni di utilià che possono risultare comode per selezionare i dati di uno o più appelli dalla variabile `estrazioni` ottenuta in precedenza.\n",
    "\n",
    "In particolare, la prossima cella ottiene gli insegnamenti a cui si riferiscono gli esiti."
   ]
  },
  {
   "cell_type": "code",
   "execution_count": null,
   "id": "hispanic-victim",
   "metadata": {},
   "outputs": [],
   "source": [
    "insegnamenti = sorted(set(estrazione.Insegnamento))"
   ]
  },
  {
   "cell_type": "markdown",
   "id": "indirect-recognition",
   "metadata": {},
   "source": [
    "Le prossime due funzioni consentono di ottenere l'elenco di appelli dato un insegnamento e l'elenco di verbali corrispondenti ad un certo insegnamento e appello."
   ]
  },
  {
   "cell_type": "code",
   "execution_count": null,
   "id": "pressing-award",
   "metadata": {},
   "outputs": [],
   "source": [
    "def appelli(insegnamento):\n",
    "    return tuple(sorted(set(estrazione[estrazione.Insegnamento == insegnamento].Appello.dt.date)))\n",
    "\n",
    "def verbali(insegnamento, appelli):\n",
    "    if not isinstance(appelli, tuple): appelli = (appelli, )\n",
    "    return estrazione[(estrazione.Insegnamento == insegnamento) & estrazione.Appello.dt.date.isin(appelli)]"
   ]
  },
  {
   "cell_type": "markdown",
   "id": "studied-admission",
   "metadata": {},
   "source": [
    "La prossima cella definisce una funzione che produce una serie di *widget* utili a selezionare un sottoinsieme di verbali in funzione dell'insegnamento e dell'appello. La funzione restituisce un oggetto i cui attributi: `insegnamento`, `appello` e `verbali` sono dinamicamente aggiornati per riflettere la selezione corrente. \n",
    "\n",
    "La parte a destra dei widget riporata il numero totale di verbali selezionai ed il numero di matricola uniche presenti, tale numero è minore di quello dei verbali qualora uno o più studenti figurino iscritti a più appelli."
   ]
  },
  {
   "cell_type": "code",
   "execution_count": null,
   "id": "contained-reducing",
   "metadata": {},
   "outputs": [],
   "source": [
    "def ui():\n",
    "\n",
    "    wins = widgets.Select(description = 'Insegnamenti')\n",
    "    wapp = widgets.SelectMultiple(description = 'Appelli')\n",
    "    wlabel = widgets.HTML(description = 'Selezione')\n",
    "\n",
    "    def uwapp(change):\n",
    "        wapp.options = appelli(change.new)\n",
    "        wapp.value = wapp.options \n",
    "    wins.observe(uwapp, names = 'value')\n",
    "\n",
    "    def uselected(change):\n",
    "        sel = verbali(wins.value, wapp.value)\n",
    "        wlabel.value = \"<b>Verbali</b>: {}<br/><b>Iscritti</b>: {}\".format(len(sel), len(set(sel.Matricola)))\n",
    "    wapp.observe(uselected, names = 'value')    \n",
    "\n",
    "    wins.options = insegnamenti\n",
    "    wins.value = insegnamenti[0]\n",
    "    wapp.options = appelli(insegnamenti[0])\n",
    "    wapp.options = wapp.value\n",
    "\n",
    "    display(widgets.HBox([wins, wapp, wlabel]))\n",
    "        \n",
    "    return type('UISelection', (), {\n",
    "        'insegnamento': property(lambda _: wins.value),\n",
    "        'appelli': property(lambda _: wapp.value),\n",
    "        'verbali': property(lambda _: verbali(wins.value, wapp.value)),\n",
    "    })()\n",
    "    \n",
    "sel = ui()"
   ]
  },
  {
   "cell_type": "code",
   "execution_count": null,
   "id": "plastic-airport",
   "metadata": {},
   "outputs": [],
   "source": [
    "# a titolo di esmepio, i primi verbali selezionati\n",
    "\n",
    "sel.verbali.head()"
   ]
  },
  {
   "cell_type": "code",
   "execution_count": null,
   "id": "1313e23f",
   "metadata": {},
   "outputs": [],
   "source": [
    "# e la distribuzione per data\n",
    "\n",
    "sel.verbali.Appello.dt.date.value_counts().sort_index(ascending = False).plot.barh();"
   ]
  },
  {
   "cell_type": "markdown",
   "id": "representative-pilot",
   "metadata": {},
   "source": [
    "### Nota bene\n",
    "\n",
    "La variabile `sel` è aggiornata dinamicamente, il che significa in particolare che una volta modificate le selezioni nei widget riporatti sopra è sufficiente eseguire di nuovo *solo le celle delle seguenti sezioni* perché le relative analisi riflettano la nuova selezione."
   ]
  },
  {
   "cell_type": "markdown",
   "id": "corrected-concentration",
   "metadata": {},
   "source": [
    "## Analisi degli esiti unici\n",
    "\n",
    "Dal momento che la selezione può contenere più verbali relativi allo stesso studente, questa sezione suggerisce un modo per riassumere i diversi esiti relativi a ciascuno studente; la funzione `euniq`, dato un elenco di esiti di un assegnato studente, restituisce:\n",
    "\n",
    "* il voto (nel caso tra gli esiti sia presente una verbalizzazione), oppure\n",
    "* il più alto voto rifiutato (nel caso ci sia almeno un rifiuto tra gli esiti), oppure\n",
    "* `RE` qualora lo studente sia stato respinto almeno una volta, oppure\n",
    "* `RI` qualora lo studente si sia sempre ritirato."
   ]
  },
  {
   "cell_type": "code",
   "execution_count": null,
   "id": "baking-medicare",
   "metadata": {},
   "outputs": [],
   "source": [
    "accetta = lambda _: _[0] in frozenset('0123456789') # determina se l'esito è stato accettato\n",
    "rifiuta = lambda _: _.startswith('~') # determina se l'esito è stato rifiutato\n",
    "\n",
    "def euniq(e):\n",
    "    v = list(filter(accetta, e.values))\n",
    "    if v: return v[0]\n",
    "    v = list(filter(rifiuta, e.values))\n",
    "    if v: return max(v)\n",
    "    if 'RE' in e.values: return 'RE'\n",
    "    if 'RI' in e.values: return 'RI'   "
   ]
  },
  {
   "cell_type": "markdown",
   "id": "activated-catering",
   "metadata": {},
   "source": [
    "Usando la funzione `euniq` per aggregare i verbali raggruppati per numero di matriola, si ottiene la variabile `esiti_unici` che contiene una *serie* con un valore per matricola."
   ]
  },
  {
   "cell_type": "code",
   "execution_count": null,
   "id": "personalized-butter",
   "metadata": {},
   "outputs": [],
   "source": [
    "esiti_unici = sel.verbali.groupby('Matricola').Esito.agg(euniq)"
   ]
  },
  {
   "cell_type": "markdown",
   "id": "absolute-tender",
   "metadata": {},
   "source": [
    "Le due funzioni ausiliare seguenti consentono di ottenere rispettivamente un conteggio ed un istogramma degli esiti unici."
   ]
  },
  {
   "cell_type": "code",
   "execution_count": null,
   "id": "proper-landing",
   "metadata": {},
   "outputs": [],
   "source": [
    "def count(_):\n",
    "    return pd.DataFrame({'#': _.value_counts().sort_index()}).T"
   ]
  },
  {
   "cell_type": "code",
   "execution_count": null,
   "id": "turned-leave",
   "metadata": {},
   "outputs": [],
   "source": [
    "count(esiti_unici) # i valori riporatati sono numeri di verbali"
   ]
  },
  {
   "cell_type": "code",
   "execution_count": null,
   "id": "permanent-photography",
   "metadata": {},
   "outputs": [],
   "source": [
    "def hist(_):\n",
    "    perc = lambda _: (10000*_/sum(_)).astype(int)/100    \n",
    "    perc(_.value_counts()).sort_index().plot.bar()"
   ]
  },
  {
   "cell_type": "code",
   "execution_count": null,
   "id": "charitable-underwear",
   "metadata": {},
   "outputs": [],
   "source": [
    "hist(esiti_unici) # i valori sono percentuali"
   ]
  },
  {
   "cell_type": "markdown",
   "id": "olympic-burden",
   "metadata": {},
   "source": [
    "### Più succintamente\n",
    "\n",
    "Può essere utile \"semplificare\" i diversi esiti raggruppando nel valore `OK` tutti gli esiti vebralizzati e in `~` quelli rifiutati usando la funzione seguente "
   ]
  },
  {
   "cell_type": "code",
   "execution_count": null,
   "id": "elder-class",
   "metadata": {},
   "outputs": [],
   "source": [
    "def sempl(e):\n",
    "    return 'OK' if accetta(e) else ('~' if e.startswith('~') else e)"
   ]
  },
  {
   "cell_type": "code",
   "execution_count": null,
   "id": "identical-quest",
   "metadata": {},
   "outputs": [],
   "source": [
    "esiti_unici_sempl = esiti_unici.apply(sempl)"
   ]
  },
  {
   "cell_type": "code",
   "execution_count": null,
   "id": "located-walter",
   "metadata": {},
   "outputs": [],
   "source": [
    "count(esiti_unici_sempl)"
   ]
  },
  {
   "cell_type": "code",
   "execution_count": null,
   "id": "helpful-november",
   "metadata": {},
   "outputs": [],
   "source": [
    "hist(esiti_unici_sempl)"
   ]
  },
  {
   "cell_type": "markdown",
   "id": "actual-radiation",
   "metadata": {},
   "source": [
    "## La \"storia\" degli esiti (pattern)\n",
    "\n",
    "Invece di riassumere gli esiti relativi ad uno studente in un unico valore, può essere interessante conservare l'intera storia di tutti gli esiti; la cella seguente definisce la variabile `pattern` aggregando in una *tupla* gli esiti raggruppati per numero di matricola. "
   ]
  },
  {
   "cell_type": "code",
   "execution_count": null,
   "id": "republican-exception",
   "metadata": {},
   "outputs": [],
   "source": [
    "pattern = sel.verbali.groupby('Matricola').Esito.agg(tuple)"
   ]
  },
  {
   "cell_type": "code",
   "execution_count": null,
   "id": "daily-breakfast",
   "metadata": {},
   "outputs": [],
   "source": [
    "pattern.head() # alcuni valori d'esempio"
   ]
  },
  {
   "cell_type": "markdown",
   "id": "prostate-shelter",
   "metadata": {},
   "source": [
    "Come osservato da Paolo Boldi (che ha proposto questa aggregazione in una analisi dei risultati dell'insegnamento di \"Programmazione\"), è bene eliminare dalle storie i singoli ritiri avvenuti nell'ultimo appello."
   ]
  },
  {
   "cell_type": "code",
   "execution_count": null,
   "id": "interstate-benchmark",
   "metadata": {},
   "outputs": [],
   "source": [
    "# le matricole degli iscritti all'ultimo appello tra quelli selezionati\n",
    "\n",
    "iscr_ultimo_appello = set(sel.verbali[sel.verbali.Appello.dt.date == sel.appelli[-1]].Matricola)\n",
    "\n",
    "# le matricole di chi ha ('RI', ) come pattern e s'è iscritto solo all'ultimo appello\n",
    "\n",
    "solo_ri_ultimo_appello = set(pattern[pattern == ('RI', )].index) & iscr_ultimo_appello"
   ]
  },
  {
   "cell_type": "code",
   "execution_count": null,
   "id": "terminal-treatment",
   "metadata": {},
   "outputs": [],
   "source": [
    "# i pattern \"ripuliti\" secondo l'osservazione di Paolo\n",
    "\n",
    "pattern_nori = pattern[set(pattern.index) - solo_ri_ultimo_appello]"
   ]
  },
  {
   "cell_type": "code",
   "execution_count": null,
   "id": "blank-proposal",
   "metadata": {},
   "outputs": [],
   "source": [
    "# un confronto tra il numero di storie e storie \"ripulite\"\n",
    "\n",
    "len(pattern), len(pattern_nori)"
   ]
  },
  {
   "cell_type": "markdown",
   "id": "amber-syndrome",
   "metadata": {},
   "source": [
    "Il primo dato interessante è la lunghezza di tali pattern, ossia il numero di volte che l'esame viene ripetuto"
   ]
  },
  {
   "cell_type": "code",
   "execution_count": null,
   "id": "organized-fireplace",
   "metadata": {},
   "outputs": [],
   "source": [
    "hist(pattern_nori.apply(len))"
   ]
  },
  {
   "cell_type": "markdown",
   "id": "finnish-video",
   "metadata": {},
   "source": [
    "La funzione seguente consente invece di ottenere un elenco dei pattern ordinato secondo la frequenza con cui compare:"
   ]
  },
  {
   "cell_type": "code",
   "execution_count": null,
   "id": "coated-glossary",
   "metadata": {},
   "outputs": [],
   "source": [
    "def freq(_):\n",
    "    perc = lambda _: (10000*_/sum(_)).astype(int)/100    \n",
    "    return pd.DataFrame({'%': perc(_.value_counts().sort_values(ascending = False))})"
   ]
  },
  {
   "cell_type": "code",
   "execution_count": null,
   "id": "lonely-large",
   "metadata": {},
   "outputs": [],
   "source": [
    "freq(pattern_nori).head(10) # ad esempio, i 10 più frequenti"
   ]
  },
  {
   "cell_type": "markdown",
   "id": "absent-tunisia",
   "metadata": {},
   "source": [
    "### Più succintamente\n",
    "\n",
    "Come nel caso precedente, prima di costruire i pattern, può aver senso raccogliere gli esiti verbalizzati e rifiutati nei due valori `OK` e `~`"
   ]
  },
  {
   "cell_type": "code",
   "execution_count": null,
   "id": "devoted-motivation",
   "metadata": {},
   "outputs": [],
   "source": [
    "pattern_sempl = sel.verbali.Esito.map(sempl).groupby(sel.verbali.Matricola).agg(tuple)"
   ]
  },
  {
   "cell_type": "code",
   "execution_count": null,
   "id": "billion-district",
   "metadata": {},
   "outputs": [],
   "source": [
    "pattern_sempl.head() # un esempio"
   ]
  },
  {
   "cell_type": "code",
   "execution_count": null,
   "id": "patent-arthur",
   "metadata": {},
   "outputs": [],
   "source": [
    "# applico la stessa pulizia di prima\n",
    "\n",
    "pattern_sempl_nori = pattern_sempl[set(pattern_sempl.index) - solo_ri_ultimo_appello]"
   ]
  },
  {
   "cell_type": "code",
   "execution_count": null,
   "id": "protecting-bristol",
   "metadata": {},
   "outputs": [],
   "source": [
    "freq(pattern_sempl_nori).head(10)"
   ]
  },
  {
   "cell_type": "markdown",
   "id": "existing-charter",
   "metadata": {},
   "source": [
    "Dall'elenco dei pattern semplificati è possibile ottenere un'altra informazione interessante: il numero di volte che l'esame è stato ripetuto da coloro i quali l'hanno passato"
   ]
  },
  {
   "cell_type": "code",
   "execution_count": null,
   "id": "norman-travel",
   "metadata": {},
   "outputs": [],
   "source": [
    "hist(pattern_sempl_nori[pattern_sempl_nori.apply(lambda _: _[-1] == 'OK')].apply(len))"
   ]
  },
  {
   "cell_type": "markdown",
   "id": "mechanical-australian",
   "metadata": {},
   "source": [
    "Altre visualizzazioni possono essere ottenute tramite la seguente funzione"
   ]
  },
  {
   "cell_type": "code",
   "execution_count": null,
   "id": "solar-madonna",
   "metadata": {},
   "outputs": [],
   "source": [
    "def hhist(_, figsize = (6, 4)):\n",
    "    perc = lambda _: (10000*_/sum(_)).astype(int)/100    \n",
    "    perc(_.value_counts()).sort_values().plot.barh(figsize = figsize)"
   ]
  },
  {
   "cell_type": "code",
   "execution_count": null,
   "id": "colored-minority",
   "metadata": {},
   "outputs": [],
   "source": [
    "hhist(pattern_nori, (6, 12))"
   ]
  },
  {
   "cell_type": "code",
   "execution_count": null,
   "id": "defensive-landing",
   "metadata": {},
   "outputs": [],
   "source": [
    "hhist(pattern_sempl_nori, (6, 12))"
   ]
  }
 ],
 "metadata": {
  "kernelspec": {
   "display_name": "Python 3",
   "language": "python",
   "name": "python3"
  },
  "language_info": {
   "codemirror_mode": {
    "name": "ipython",
    "version": 3
   },
   "file_extension": ".py",
   "mimetype": "text/x-python",
   "name": "python",
   "nbconvert_exporter": "python",
   "pygments_lexer": "ipython3",
   "version": "3.8.5"
  }
 },
 "nbformat": 4,
 "nbformat_minor": 5
}
