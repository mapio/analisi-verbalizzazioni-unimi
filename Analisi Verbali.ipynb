{
 "cells": [
  {
   "cell_type": "markdown",
   "id": "seeing-thanksgiving",
   "metadata": {},
   "source": [
    "# Analisi verbalizzazioni\n",
    "\n",
    "Questo *notebook* consente di svolgere alcune semplici analisi a partire dai verbali estratti tramite la funzione [Archivio verbali ed esiti finali](https://work.unimi.it/boDocenti/wicket/page?3) dell'applicazione [B.O. Docent](https://work.unimi.it/boDocenti/); più in geneale consente di svolgere le analisi a partire da un elenco di verbali d'esame che registrino, per ciascuna prova, l'*insegnamento* a cui si riferisce, la *data* in cui è avvenuta, il numero di *matricola* dello studente (o un qualunque identificatore unico del medesimo) e l'*esito* della prova."
   ]
  },
  {
   "cell_type": "code",
   "execution_count": 194,
   "id": "hybrid-manor",
   "metadata": {},
   "outputs": [],
   "source": [
    "# importazione delle librerie necessarie\n",
    "\n",
    "import pandas as pd\n",
    "from ipywidgets import widgets"
   ]
  },
  {
   "cell_type": "markdown",
   "id": "intended-bloom",
   "metadata": {},
   "source": [
    "## Lettura e preparazione dei dati\n",
    "\n",
    "In questa sezione vengono caricati e \"normalizzati\" i dati che si assume siano stati ottenuti dall'esportazione sopra descritta e salvanti in un file il cui nome è memorizzato nella variabile `file_verbali`.\n",
    "\n",
    "Eseguita l'ultima cella di questa sezione i dati saranno contenuti nella variabile `estrazione` che corrisponderà ad un *data-frame* di Pandas contenente le colonne: `Inesegnamento`, `Data`, `Matricola` ed `Esito` ed ordinato per data (l'ordine è rilevante per le aggregazioni delle prossime sezioni). Il contenuto della colonna `Eisto` è una *stringa* che codifica l'esito della prova come segue:\n",
    "\n",
    "* `RI` corrisponde ad un ritiro,\n",
    "* `RE` indica che la prova non è stata superata (ossia che l'allievo è stato respinto),\n",
    "* un stringa contenente un numero intero corrisponde ad un esito verbalizzato (la stringa `33` corrisponde al voto 30 e lode),\n",
    "* una stringa contenente un numero intero prefissato dal simbolo `~` corrisponde ad un esito rifiutato. "
   ]
  },
  {
   "cell_type": "code",
   "execution_count": 195,
   "id": "hourly-protein",
   "metadata": {},
   "outputs": [],
   "source": [
    "file_verbali = 'verbali-esami.xls'"
   ]
  },
  {
   "cell_type": "code",
   "execution_count": 196,
   "id": "accompanied-forward",
   "metadata": {},
   "outputs": [],
   "source": [
    "def vse2e(voto, stato_esito):\n",
    "    if stato_esito == 'Rifiutato': return '~' + voto\n",
    "    if voto == 'Respinto': return 'RE'\n",
    "    if voto == 'Ritirato': return 'RI'\n",
    "    if voto == '30 e lode': return '33'\n",
    "    return voto\n",
    "\n",
    "estrazione = pd.read_excel(file_verbali).apply(lambda _: pd.Series({\n",
    "    'Insegnamento': _['Descrizione insegnamento'],\n",
    "    'Data': _['Data'],\n",
    "    'Matricola': _['Matricola'], \n",
    "    'Esito': vse2e(_['Voto'], _['Stato Esito'])\n",
    "}), axis = 1).sort_values('Data')"
   ]
  },
  {
   "cell_type": "code",
   "execution_count": 197,
   "id": "missing-advancement",
   "metadata": {},
   "outputs": [
    {
     "data": {
      "text/html": [
       "<div>\n",
       "<style scoped>\n",
       "    .dataframe tbody tr th:only-of-type {\n",
       "        vertical-align: middle;\n",
       "    }\n",
       "\n",
       "    .dataframe tbody tr th {\n",
       "        vertical-align: top;\n",
       "    }\n",
       "\n",
       "    .dataframe thead th {\n",
       "        text-align: right;\n",
       "    }\n",
       "</style>\n",
       "<table border=\"1\" class=\"dataframe\">\n",
       "  <thead>\n",
       "    <tr style=\"text-align: right;\">\n",
       "      <th></th>\n",
       "      <th>Insegnamento</th>\n",
       "      <th>Data</th>\n",
       "      <th>Matricola</th>\n",
       "      <th>Esito</th>\n",
       "    </tr>\n",
       "  </thead>\n",
       "  <tbody>\n",
       "    <tr>\n",
       "      <th>378</th>\n",
       "      <td>LINGUAGGI E TRADUTTORI</td>\n",
       "      <td>2019-06-28</td>\n",
       "      <td>867234</td>\n",
       "      <td>24</td>\n",
       "    </tr>\n",
       "    <tr>\n",
       "      <th>377</th>\n",
       "      <td>LINGUAGGI E TRADUTTORI</td>\n",
       "      <td>2019-07-11</td>\n",
       "      <td>897293</td>\n",
       "      <td>24</td>\n",
       "    </tr>\n",
       "    <tr>\n",
       "      <th>376</th>\n",
       "      <td>LINGUAGGI E TRADUTTORI</td>\n",
       "      <td>2019-07-11</td>\n",
       "      <td>857113</td>\n",
       "      <td>24</td>\n",
       "    </tr>\n",
       "    <tr>\n",
       "      <th>375</th>\n",
       "      <td>LINGUAGGI E TRADUTTORI</td>\n",
       "      <td>2019-07-23</td>\n",
       "      <td>893396</td>\n",
       "      <td>30</td>\n",
       "    </tr>\n",
       "    <tr>\n",
       "      <th>374</th>\n",
       "      <td>LINGUAGGI E TRADUTTORI</td>\n",
       "      <td>2019-07-23</td>\n",
       "      <td>V06539</td>\n",
       "      <td>RE</td>\n",
       "    </tr>\n",
       "  </tbody>\n",
       "</table>\n",
       "</div>"
      ],
      "text/plain": [
       "               Insegnamento       Data Matricola Esito\n",
       "378  LINGUAGGI E TRADUTTORI 2019-06-28    867234    24\n",
       "377  LINGUAGGI E TRADUTTORI 2019-07-11    897293    24\n",
       "376  LINGUAGGI E TRADUTTORI 2019-07-11    857113    24\n",
       "375  LINGUAGGI E TRADUTTORI 2019-07-23    893396    30\n",
       "374  LINGUAGGI E TRADUTTORI 2019-07-23    V06539    RE"
      ]
     },
     "execution_count": 197,
     "metadata": {},
     "output_type": "execute_result"
    }
   ],
   "source": [
    "# vengono riportate alcune linee a scopo di esempio\n",
    "\n",
    "estrazione.head()"
   ]
  },
  {
   "cell_type": "markdown",
   "id": "golden-trace",
   "metadata": {},
   "source": [
    "## Selezione dei dati\n",
    "\n",
    "Eseguendo le celle di questa sezione è possibile definire alcune funzioni di utilià che possono risultare comode per selezionare i dati di uno o più appelli dalla variabile `estrazioni` ottenuta in precedenza.\n",
    "\n",
    "In particolare, la prossima cella ottiene gli insegnamenti a cui si riferiscono gli esiti."
   ]
  },
  {
   "cell_type": "code",
   "execution_count": 198,
   "id": "hispanic-victim",
   "metadata": {},
   "outputs": [],
   "source": [
    "insegnamenti = sorted(set(estrazione.Insegnamento))"
   ]
  },
  {
   "cell_type": "markdown",
   "id": "indirect-recognition",
   "metadata": {},
   "source": [
    "Le prossime due funzioni consentono di ottenere l'elenco di date dei verbali dato un insegnamento e l'elenco di verbali corrispondenti ad un certo insegnamento e data."
   ]
  },
  {
   "cell_type": "code",
   "execution_count": 199,
   "id": "pressing-award",
   "metadata": {},
   "outputs": [],
   "source": [
    "def date(insegnamento):\n",
    "    return sorted(frozenset(estrazione[estrazione.Insegnamento == insegnamento].Data.dt.date))\n",
    "\n",
    "def verbali(insegnamento, data):\n",
    "    sel_data = estrazione.Data.dt.date.isin(data) if isinstance(data, tuple) else estrazione.Data.dt.date == data\n",
    "    return estrazione[(estrazione.Insegnamento == insegnamento) & sel_data]"
   ]
  },
  {
   "cell_type": "markdown",
   "id": "studied-admission",
   "metadata": {},
   "source": [
    "La prossima cella definisce una funzione che produce una serie di *widget* utili a selezionare un sottoinsieme di verbali in funzione dell'insegnamento e della data. La funzione restituisce un oggetto i cui attributi: `insegnamento`, `date` e `verbali` sono dinamicamente aggiornati per riflettere la selezione corrente. \n",
    "\n",
    "La parte a destra dei widget riporata il numero totale di verbali selezionai ed il numero di matricola uniche presenti nei verbali, tale numero è minore di quello dei verbali qualora uno o più studenti compaiano ripetutamente tra i verbali selezionati."
   ]
  },
  {
   "cell_type": "code",
   "execution_count": 200,
   "id": "contained-reducing",
   "metadata": {},
   "outputs": [
    {
     "data": {
      "application/vnd.jupyter.widget-view+json": {
       "model_id": "e25920421d1f476c807d43f4767bca48",
       "version_major": 2,
       "version_minor": 0
      },
      "text/plain": [
       "HBox(children=(Select(description='Insegnamenti', options=('LINGUAGGI E TRADUTTORI', 'PROGRAMMAZIONE 1', 'PROG…"
      ]
     },
     "metadata": {},
     "output_type": "display_data"
    }
   ],
   "source": [
    "def ui():\n",
    "\n",
    "    wins = widgets.Select(description = 'Insegnamenti')\n",
    "    wdate = widgets.SelectMultiple(description = 'Date')\n",
    "    wlabel = widgets.HTML(description = 'Selezione')\n",
    "\n",
    "    def uwdate(change):\n",
    "        wdate.options = date(change.new)\n",
    "        wdate.value = wdate.options\n",
    "    wins.observe(uwdate, names = 'value')\n",
    "\n",
    "    def uselected(change):\n",
    "        sel = verbali(wins.value, wdate.value)\n",
    "        wlabel.value = \"<b>Verbali</b>: {}<br/><b>Iscritti</b>: {}\".format(len(sel), len(set(sel.Matricola)))\n",
    "    wdate.observe(uselected, names = 'value')    \n",
    "\n",
    "    wins.options = insegnamenti\n",
    "    wins.value = insegnamenti[0]\n",
    "    wdate.options = wdate.value = date(insegnamenti[0])\n",
    "\n",
    "    display(widgets.HBox([wins, wdate, wlabel]))\n",
    "        \n",
    "    return type('X', (), {\n",
    "        'insegnamento': property(lambda _: wins.value),\n",
    "        'date': property(lambda _: wdate.value),\n",
    "        'verbali': property(lambda _: verbali(wins.value, wdate.value)),\n",
    "    })()\n",
    "    \n",
    "sel = ui()"
   ]
  },
  {
   "cell_type": "code",
   "execution_count": 215,
   "id": "plastic-airport",
   "metadata": {},
   "outputs": [
    {
     "data": {
      "text/html": [
       "<div>\n",
       "<style scoped>\n",
       "    .dataframe tbody tr th:only-of-type {\n",
       "        vertical-align: middle;\n",
       "    }\n",
       "\n",
       "    .dataframe tbody tr th {\n",
       "        vertical-align: top;\n",
       "    }\n",
       "\n",
       "    .dataframe thead th {\n",
       "        text-align: right;\n",
       "    }\n",
       "</style>\n",
       "<table border=\"1\" class=\"dataframe\">\n",
       "  <thead>\n",
       "    <tr style=\"text-align: right;\">\n",
       "      <th></th>\n",
       "      <th>Insegnamento</th>\n",
       "      <th>Data</th>\n",
       "      <th>Matricola</th>\n",
       "      <th>Esito</th>\n",
       "    </tr>\n",
       "  </thead>\n",
       "  <tbody>\n",
       "    <tr>\n",
       "      <th>79</th>\n",
       "      <td>PROGRAMMAZIONE II</td>\n",
       "      <td>2021-02-02</td>\n",
       "      <td>943629</td>\n",
       "      <td>RI</td>\n",
       "    </tr>\n",
       "    <tr>\n",
       "      <th>78</th>\n",
       "      <td>PROGRAMMAZIONE II</td>\n",
       "      <td>2021-02-02</td>\n",
       "      <td>941775</td>\n",
       "      <td>RE</td>\n",
       "    </tr>\n",
       "    <tr>\n",
       "      <th>77</th>\n",
       "      <td>PROGRAMMAZIONE II</td>\n",
       "      <td>2021-02-02</td>\n",
       "      <td>923482</td>\n",
       "      <td>RE</td>\n",
       "    </tr>\n",
       "    <tr>\n",
       "      <th>76</th>\n",
       "      <td>PROGRAMMAZIONE II</td>\n",
       "      <td>2021-02-02</td>\n",
       "      <td>938092</td>\n",
       "      <td>RE</td>\n",
       "    </tr>\n",
       "    <tr>\n",
       "      <th>75</th>\n",
       "      <td>PROGRAMMAZIONE II</td>\n",
       "      <td>2021-02-02</td>\n",
       "      <td>932252</td>\n",
       "      <td>RE</td>\n",
       "    </tr>\n",
       "  </tbody>\n",
       "</table>\n",
       "</div>"
      ],
      "text/plain": [
       "         Insegnamento       Data Matricola Esito\n",
       "79  PROGRAMMAZIONE II 2021-02-02    943629    RI\n",
       "78  PROGRAMMAZIONE II 2021-02-02    941775    RE\n",
       "77  PROGRAMMAZIONE II 2021-02-02    923482    RE\n",
       "76  PROGRAMMAZIONE II 2021-02-02    938092    RE\n",
       "75  PROGRAMMAZIONE II 2021-02-02    932252    RE"
      ]
     },
     "execution_count": 215,
     "metadata": {},
     "output_type": "execute_result"
    }
   ],
   "source": [
    "# a titolo di esmepio, i primi verbali selezionati\n",
    "\n",
    "sel.verbali.head()"
   ]
  },
  {
   "cell_type": "markdown",
   "id": "representative-pilot",
   "metadata": {},
   "source": [
    "### Nota bene\n",
    "\n",
    "La variabile `sel` è aggiornata dinamicamente, il che significa in particolare che una volta modificate le selezioni nei widget riporatti sopra è sufficiente eseguire di nuovo le celle delle seguenti sezioni perché le relative analisi riflettano la nuova selezione."
   ]
  },
  {
   "cell_type": "markdown",
   "id": "corrected-concentration",
   "metadata": {},
   "source": [
    "## Analisi degli esiti unici\n",
    "\n",
    "Dal momento che la selezione può contenere più verbali relativi allo stesso studente, questa sezione suggerisce un modo per riassumere i diversi esiti relativi a ciascuno studente; la funzione `euniq`, dato un elenco di esiti di un assegnato studente, restituisce:\n",
    "\n",
    "* il voto (nel caso tra gli esiti sia presente una verbalizzazione), oppure\n",
    "* il più alto voto rifiutato (nel caso ci sia almeno un rifiuto tra gli esiti), oppure\n",
    "* `RE` qualora lo studente sia stato respinto almeno una volta, oppure\n",
    "* `RI` qualora lo studente si sia sempre ritirato."
   ]
  },
  {
   "cell_type": "code",
   "execution_count": 216,
   "id": "baking-medicare",
   "metadata": {},
   "outputs": [],
   "source": [
    "accetta = lambda _: _[0] in frozenset('0123456789') # determina se l'esito è stato accettato\n",
    "rifiuta = lambda _: _[-1] in frozenset('0123456789') # determina, per gli esiti non accettati, se si tratti di rifiuto\n",
    "\n",
    "def euniq(e):\n",
    "    v = list(filter(accetta, e.values))\n",
    "    if v: return v[0]\n",
    "    v = list(filter(rifiuta, e.values))\n",
    "    if v: return max(v)\n",
    "    if 'RE' in e.values: return 'RE'\n",
    "    if 'RI' in e.values: return 'RI'   "
   ]
  },
  {
   "cell_type": "markdown",
   "id": "activated-catering",
   "metadata": {},
   "source": [
    "Usando la funzione `euniq` per aggregare i verbali raggruppati per numero di matriola, si ottiene la variabile `esiti_unici` che contiene una *serie* con un valore per matricola."
   ]
  },
  {
   "cell_type": "code",
   "execution_count": 217,
   "id": "personalized-butter",
   "metadata": {},
   "outputs": [],
   "source": [
    "esiti_unici = sel.verbali.groupby('Matricola').Esito.agg(euniq)"
   ]
  },
  {
   "cell_type": "markdown",
   "id": "absolute-tender",
   "metadata": {},
   "source": [
    "Le due funzioni ausiliare seguenti consentono di ottenere rispettivamente un conteggio ed un istogramma degli esiti unici."
   ]
  },
  {
   "cell_type": "code",
   "execution_count": 218,
   "id": "proper-landing",
   "metadata": {},
   "outputs": [],
   "source": [
    "def count(_):\n",
    "    return pd.DataFrame({'#': _.value_counts().sort_index()}).T"
   ]
  },
  {
   "cell_type": "code",
   "execution_count": 219,
   "id": "turned-leave",
   "metadata": {},
   "outputs": [
    {
     "data": {
      "text/html": [
       "<div>\n",
       "<style scoped>\n",
       "    .dataframe tbody tr th:only-of-type {\n",
       "        vertical-align: middle;\n",
       "    }\n",
       "\n",
       "    .dataframe tbody tr th {\n",
       "        vertical-align: top;\n",
       "    }\n",
       "\n",
       "    .dataframe thead th {\n",
       "        text-align: right;\n",
       "    }\n",
       "</style>\n",
       "<table border=\"1\" class=\"dataframe\">\n",
       "  <thead>\n",
       "    <tr style=\"text-align: right;\">\n",
       "      <th></th>\n",
       "      <th>18</th>\n",
       "      <th>19</th>\n",
       "      <th>20</th>\n",
       "      <th>21</th>\n",
       "      <th>22</th>\n",
       "      <th>26</th>\n",
       "      <th>27</th>\n",
       "      <th>RE</th>\n",
       "      <th>RI</th>\n",
       "      <th>~19</th>\n",
       "    </tr>\n",
       "  </thead>\n",
       "  <tbody>\n",
       "    <tr>\n",
       "      <th>#</th>\n",
       "      <td>4</td>\n",
       "      <td>1</td>\n",
       "      <td>5</td>\n",
       "      <td>1</td>\n",
       "      <td>3</td>\n",
       "      <td>1</td>\n",
       "      <td>2</td>\n",
       "      <td>37</td>\n",
       "      <td>16</td>\n",
       "      <td>1</td>\n",
       "    </tr>\n",
       "  </tbody>\n",
       "</table>\n",
       "</div>"
      ],
      "text/plain": [
       "   18  19  20  21  22  26  27  RE  RI  ~19\n",
       "#   4   1   5   1   3   1   2  37  16    1"
      ]
     },
     "execution_count": 219,
     "metadata": {},
     "output_type": "execute_result"
    }
   ],
   "source": [
    "count(esiti_unici) # i valori riporatati sono numeri di verbali"
   ]
  },
  {
   "cell_type": "code",
   "execution_count": 220,
   "id": "permanent-photography",
   "metadata": {},
   "outputs": [],
   "source": [
    "def hist(_):\n",
    "    perc = lambda _: (10000*_/sum(_)).astype(int)/100    \n",
    "    perc(_.value_counts()).sort_index().plot.bar()"
   ]
  },
  {
   "cell_type": "code",
   "execution_count": 221,
   "id": "charitable-underwear",
   "metadata": {},
   "outputs": [
    {
     "data": {
      "image/png": "[encoded data removed]",
      "text/plain": [
       "<Figure size 432x288 with 1 Axes>"
      ]
     },
     "metadata": {
      "needs_background": "light"
     },
     "output_type": "display_data"
    }
   ],
   "source": [
    "hist(esiti_unici) # i valori sono percentuali"
   ]
  },
  {
   "cell_type": "markdown",
   "id": "olympic-burden",
   "metadata": {},
   "source": [
    "### Più succintamente\n",
    "\n",
    "Può essere utile \"semplificare\" i diversi esiti raggruppando nel valore `OK` tutti gli esiti vebralizzati e in `~` quelli rifiutati usando la funzione seguente "
   ]
  },
  {
   "cell_type": "code",
   "execution_count": 227,
   "id": "elder-class",
   "metadata": {},
   "outputs": [],
   "source": [
    "def sempl(e):\n",
    "    return 'OK' if starts_with_digit(e) else ('~' if e.startswith('~') else e)"
   ]
  },
  {
   "cell_type": "code",
   "execution_count": 228,
   "id": "identical-quest",
   "metadata": {},
   "outputs": [],
   "source": [
    "esiti_unici_sempl = esiti_unici.apply(sempl)"
   ]
  },
  {
   "cell_type": "code",
   "execution_count": 229,
   "id": "located-walter",
   "metadata": {},
   "outputs": [
    {
     "data": {
      "text/html": [
       "<div>\n",
       "<style scoped>\n",
       "    .dataframe tbody tr th:only-of-type {\n",
       "        vertical-align: middle;\n",
       "    }\n",
       "\n",
       "    .dataframe tbody tr th {\n",
       "        vertical-align: top;\n",
       "    }\n",
       "\n",
       "    .dataframe thead th {\n",
       "        text-align: right;\n",
       "    }\n",
       "</style>\n",
       "<table border=\"1\" class=\"dataframe\">\n",
       "  <thead>\n",
       "    <tr style=\"text-align: right;\">\n",
       "      <th></th>\n",
       "      <th>OK</th>\n",
       "      <th>RE</th>\n",
       "      <th>RI</th>\n",
       "      <th>~</th>\n",
       "    </tr>\n",
       "  </thead>\n",
       "  <tbody>\n",
       "    <tr>\n",
       "      <th>#</th>\n",
       "      <td>17</td>\n",
       "      <td>37</td>\n",
       "      <td>16</td>\n",
       "      <td>1</td>\n",
       "    </tr>\n",
       "  </tbody>\n",
       "</table>\n",
       "</div>"
      ],
      "text/plain": [
       "   OK  RE  RI  ~\n",
       "#  17  37  16  1"
      ]
     },
     "execution_count": 229,
     "metadata": {},
     "output_type": "execute_result"
    }
   ],
   "source": [
    "count(esiti_unici_sempl)"
   ]
  },
  {
   "cell_type": "code",
   "execution_count": 230,
   "id": "helpful-november",
   "metadata": {},
   "outputs": [
    {
     "data": {
      "image/png": "[encoded data removed]",
      "text/plain": [
       "<Figure size 432x288 with 1 Axes>"
      ]
     },
     "metadata": {
      "needs_background": "light"
     },
     "output_type": "display_data"
    }
   ],
   "source": [
    "hist(esiti_unici_sempl)"
   ]
  },
  {
   "cell_type": "markdown",
   "id": "prostate-shelter",
   "metadata": {},
   "source": [
    "## Pattern \n",
    "\n",
    "Invece di riassumere gli esiti relativi ad uno studente in un unico valore, può essere interessante conservare la storia di tutti gli esiti; la cella seguente definisce la variabile `pattern` aggregando in una *tupla* gli esiti raggruppati per numero di matricola."
   ]
  },
  {
   "cell_type": "code",
   "execution_count": 232,
   "id": "republican-exception",
   "metadata": {},
   "outputs": [],
   "source": [
    "pattern = sel.verbali.groupby('Matricola').Esito.agg(tuple)"
   ]
  },
  {
   "cell_type": "markdown",
   "id": "finnish-video",
   "metadata": {},
   "source": [
    "La funzione seguente consente di ottenere un elenco dei pattern ordinato secondo la frequenza con cui compare:"
   ]
  },
  {
   "cell_type": "code",
   "execution_count": 244,
   "id": "coated-glossary",
   "metadata": {},
   "outputs": [],
   "source": [
    "def freq(_):\n",
    "    perc = lambda _: (10000*_/sum(_)).astype(int)/100    \n",
    "    return pd.DataFrame({'%': perc(_.value_counts().sort_values(ascending = False))})"
   ]
  },
  {
   "cell_type": "code",
   "execution_count": 249,
   "id": "lonely-large",
   "metadata": {},
   "outputs": [
    {
     "data": {
      "text/html": [
       "<div>\n",
       "<style scoped>\n",
       "    .dataframe tbody tr th:only-of-type {\n",
       "        vertical-align: middle;\n",
       "    }\n",
       "\n",
       "    .dataframe tbody tr th {\n",
       "        vertical-align: top;\n",
       "    }\n",
       "\n",
       "    .dataframe thead th {\n",
       "        text-align: right;\n",
       "    }\n",
       "</style>\n",
       "<table border=\"1\" class=\"dataframe\">\n",
       "  <thead>\n",
       "    <tr style=\"text-align: right;\">\n",
       "      <th></th>\n",
       "      <th>%</th>\n",
       "    </tr>\n",
       "  </thead>\n",
       "  <tbody>\n",
       "    <tr>\n",
       "      <th>(RE,)</th>\n",
       "      <td>28.16</td>\n",
       "    </tr>\n",
       "    <tr>\n",
       "      <th>(RE, RE)</th>\n",
       "      <td>19.71</td>\n",
       "    </tr>\n",
       "    <tr>\n",
       "      <th>(RI,)</th>\n",
       "      <td>19.71</td>\n",
       "    </tr>\n",
       "    <tr>\n",
       "      <th>(18,)</th>\n",
       "      <td>5.63</td>\n",
       "    </tr>\n",
       "    <tr>\n",
       "      <th>(RE, 20)</th>\n",
       "      <td>5.63</td>\n",
       "    </tr>\n",
       "    <tr>\n",
       "      <th>(22,)</th>\n",
       "      <td>4.22</td>\n",
       "    </tr>\n",
       "    <tr>\n",
       "      <th>(RI, RE)</th>\n",
       "      <td>2.81</td>\n",
       "    </tr>\n",
       "    <tr>\n",
       "      <th>(RI, RI)</th>\n",
       "      <td>2.81</td>\n",
       "    </tr>\n",
       "    <tr>\n",
       "      <th>(27,)</th>\n",
       "      <td>1.40</td>\n",
       "    </tr>\n",
       "    <tr>\n",
       "      <th>(RE, ~19)</th>\n",
       "      <td>1.40</td>\n",
       "    </tr>\n",
       "  </tbody>\n",
       "</table>\n",
       "</div>"
      ],
      "text/plain": [
       "               %\n",
       "(RE,)      28.16\n",
       "(RE, RE)   19.71\n",
       "(RI,)      19.71\n",
       "(18,)       5.63\n",
       "(RE, 20)    5.63\n",
       "(22,)       4.22\n",
       "(RI, RE)    2.81\n",
       "(RI, RI)    2.81\n",
       "(27,)       1.40\n",
       "(RE, ~19)   1.40"
      ]
     },
     "execution_count": 249,
     "metadata": {},
     "output_type": "execute_result"
    }
   ],
   "source": [
    "freq(pattern).head(10) # ad esempio, i 10 più frequenti"
   ]
  },
  {
   "cell_type": "markdown",
   "id": "absent-tunisia",
   "metadata": {},
   "source": [
    "### Più succintamente\n",
    "\n",
    "Come nel caso precedente, prima di costruire i pattern, può aver senso raccogliere gli esiti verbalizzati e rifiutati nei due valori `OK` e `~`"
   ]
  },
  {
   "cell_type": "code",
   "execution_count": 254,
   "id": "devoted-motivation",
   "metadata": {},
   "outputs": [],
   "source": [
    "pattern_sempl = sel.verbali.Esito.map(sempl).groupby(sel.verbali.Matricola).agg(tuple)"
   ]
  },
  {
   "cell_type": "code",
   "execution_count": 255,
   "id": "protecting-bristol",
   "metadata": {},
   "outputs": [
    {
     "data": {
      "text/html": [
       "<div>\n",
       "<style scoped>\n",
       "    .dataframe tbody tr th:only-of-type {\n",
       "        vertical-align: middle;\n",
       "    }\n",
       "\n",
       "    .dataframe tbody tr th {\n",
       "        vertical-align: top;\n",
       "    }\n",
       "\n",
       "    .dataframe thead th {\n",
       "        text-align: right;\n",
       "    }\n",
       "</style>\n",
       "<table border=\"1\" class=\"dataframe\">\n",
       "  <thead>\n",
       "    <tr style=\"text-align: right;\">\n",
       "      <th></th>\n",
       "      <th>%</th>\n",
       "    </tr>\n",
       "  </thead>\n",
       "  <tbody>\n",
       "    <tr>\n",
       "      <th>(RE,)</th>\n",
       "      <td>28.16</td>\n",
       "    </tr>\n",
       "    <tr>\n",
       "      <th>(RE, RE)</th>\n",
       "      <td>19.71</td>\n",
       "    </tr>\n",
       "    <tr>\n",
       "      <th>(RI,)</th>\n",
       "      <td>19.71</td>\n",
       "    </tr>\n",
       "    <tr>\n",
       "      <th>(OK,)</th>\n",
       "      <td>14.08</td>\n",
       "    </tr>\n",
       "    <tr>\n",
       "      <th>(RE, OK)</th>\n",
       "      <td>8.45</td>\n",
       "    </tr>\n",
       "    <tr>\n",
       "      <th>(RI, RI)</th>\n",
       "      <td>2.81</td>\n",
       "    </tr>\n",
       "    <tr>\n",
       "      <th>(RI, RE)</th>\n",
       "      <td>2.81</td>\n",
       "    </tr>\n",
       "    <tr>\n",
       "      <th>(RE, RI)</th>\n",
       "      <td>1.40</td>\n",
       "    </tr>\n",
       "    <tr>\n",
       "      <th>(RI, OK)</th>\n",
       "      <td>1.40</td>\n",
       "    </tr>\n",
       "    <tr>\n",
       "      <th>(RE, ~)</th>\n",
       "      <td>1.40</td>\n",
       "    </tr>\n",
       "  </tbody>\n",
       "</table>\n",
       "</div>"
      ],
      "text/plain": [
       "              %\n",
       "(RE,)     28.16\n",
       "(RE, RE)  19.71\n",
       "(RI,)     19.71\n",
       "(OK,)     14.08\n",
       "(RE, OK)   8.45\n",
       "(RI, RI)   2.81\n",
       "(RI, RE)   2.81\n",
       "(RE, RI)   1.40\n",
       "(RI, OK)   1.40\n",
       "(RE, ~)    1.40"
      ]
     },
     "execution_count": 255,
     "metadata": {},
     "output_type": "execute_result"
    }
   ],
   "source": [
    "freq(pattern_sempl)"
   ]
  },
  {
   "cell_type": "markdown",
   "id": "mechanical-australian",
   "metadata": {},
   "source": [
    "Una ulteriore visualizzazione può essere ottenuta tramite la seguente funzione"
   ]
  },
  {
   "cell_type": "code",
   "execution_count": 256,
   "id": "solar-madonna",
   "metadata": {},
   "outputs": [],
   "source": [
    "def hhist(_):\n",
    "    perc = lambda _: (10000*_/sum(_)).astype(int)/100    \n",
    "    perc(_.value_counts()).sort_values().plot.barh()"
   ]
  },
  {
   "cell_type": "code",
   "execution_count": 257,
   "id": "colored-minority",
   "metadata": {
    "scrolled": false
   },
   "outputs": [
    {
     "data": {
      "image/png": "[encoded data removed]",
      "text/plain": [
       "<Figure size 432x288 with 1 Axes>"
      ]
     },
     "metadata": {
      "needs_background": "light"
     },
     "output_type": "display_data"
    }
   ],
   "source": [
    "hhist(pattern)"
   ]
  },
  {
   "cell_type": "code",
   "execution_count": 258,
   "id": "defensive-landing",
   "metadata": {},
   "outputs": [
    {
     "data": {
      "image/png": "[encoded data removed]",
      "text/plain": [
       "<Figure size 432x288 with 1 Axes>"
      ]
     },
     "metadata": {
      "needs_background": "light"
     },
     "output_type": "display_data"
    }
   ],
   "source": [
    "hhist(pattern_sempl)"
   ]
  }
 ],
 "metadata": {
  "kernelspec": {
   "display_name": "Python 3",
   "language": "python",
   "name": "python3"
  },
  "language_info": {
   "codemirror_mode": {
    "name": "ipython",
    "version": 3
   },
   "file_extension": ".py",
   "mimetype": "text/x-python",
   "name": "python",
   "nbconvert_exporter": "python",
   "pygments_lexer": "ipython3",
   "version": "3.9.1"
  }
 },
 "nbformat": 4,
 "nbformat_minor": 5
}
