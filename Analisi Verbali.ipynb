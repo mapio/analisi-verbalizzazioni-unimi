{
 "cells": [
  {
   "cell_type": "code",
   "execution_count": 3,
   "id": "hybrid-manor",
   "metadata": {},
   "outputs": [],
   "source": [
    "import pandas as pd\n",
    "from ipywidgets import widgets"
   ]
  },
  {
   "cell_type": "code",
   "execution_count": 4,
   "id": "female-independence",
   "metadata": {},
   "outputs": [
    {
     "data": {
      "text/html": [
       "<div>\n",
       "<style scoped>\n",
       "    .dataframe tbody tr th:only-of-type {\n",
       "        vertical-align: middle;\n",
       "    }\n",
       "\n",
       "    .dataframe tbody tr th {\n",
       "        vertical-align: top;\n",
       "    }\n",
       "\n",
       "    .dataframe thead th {\n",
       "        text-align: right;\n",
       "    }\n",
       "</style>\n",
       "<table border=\"1\" class=\"dataframe\">\n",
       "  <thead>\n",
       "    <tr style=\"text-align: right;\">\n",
       "      <th></th>\n",
       "      <th>Descrizione insegnamento</th>\n",
       "      <th>Cfu</th>\n",
       "      <th>Voto</th>\n",
       "      <th>Stato Esito</th>\n",
       "      <th>Data</th>\n",
       "    </tr>\n",
       "  </thead>\n",
       "  <tbody>\n",
       "    <tr>\n",
       "      <th>0</th>\n",
       "      <td>PROGRAMMAZIONE II</td>\n",
       "      <td>6</td>\n",
       "      <td>19</td>\n",
       "      <td>Rifiutato</td>\n",
       "      <td>2021-02-24</td>\n",
       "    </tr>\n",
       "    <tr>\n",
       "      <th>1</th>\n",
       "      <td>PROGRAMMAZIONE II</td>\n",
       "      <td>6</td>\n",
       "      <td>20</td>\n",
       "      <td>Verbalizzato</td>\n",
       "      <td>2021-02-24</td>\n",
       "    </tr>\n",
       "    <tr>\n",
       "      <th>2</th>\n",
       "      <td>PROGRAMMAZIONE II</td>\n",
       "      <td>6</td>\n",
       "      <td>27</td>\n",
       "      <td>Verbalizzato</td>\n",
       "      <td>2021-02-24</td>\n",
       "    </tr>\n",
       "    <tr>\n",
       "      <th>3</th>\n",
       "      <td>PROGRAMMAZIONE II</td>\n",
       "      <td>6</td>\n",
       "      <td>20</td>\n",
       "      <td>Verbalizzato</td>\n",
       "      <td>2021-02-24</td>\n",
       "    </tr>\n",
       "    <tr>\n",
       "      <th>4</th>\n",
       "      <td>PROGRAMMAZIONE II</td>\n",
       "      <td>6</td>\n",
       "      <td>Respinto</td>\n",
       "      <td>Verbalizzato</td>\n",
       "      <td>2021-02-24</td>\n",
       "    </tr>\n",
       "    <tr>\n",
       "      <th>5</th>\n",
       "      <td>PROGRAMMAZIONE II</td>\n",
       "      <td>6</td>\n",
       "      <td>26</td>\n",
       "      <td>Verbalizzato</td>\n",
       "      <td>2021-02-24</td>\n",
       "    </tr>\n",
       "    <tr>\n",
       "      <th>6</th>\n",
       "      <td>PROGRAMMAZIONE II</td>\n",
       "      <td>6</td>\n",
       "      <td>20</td>\n",
       "      <td>Verbalizzato</td>\n",
       "      <td>2021-02-24</td>\n",
       "    </tr>\n",
       "    <tr>\n",
       "      <th>7</th>\n",
       "      <td>PROGRAMMAZIONE II</td>\n",
       "      <td>6</td>\n",
       "      <td>Ritirato</td>\n",
       "      <td>Verbalizzato</td>\n",
       "      <td>2021-02-23</td>\n",
       "    </tr>\n",
       "    <tr>\n",
       "      <th>8</th>\n",
       "      <td>PROGRAMMAZIONE II</td>\n",
       "      <td>6</td>\n",
       "      <td>Ritirato</td>\n",
       "      <td>Verbalizzato</td>\n",
       "      <td>2021-02-23</td>\n",
       "    </tr>\n",
       "    <tr>\n",
       "      <th>9</th>\n",
       "      <td>PROGRAMMAZIONE II</td>\n",
       "      <td>6</td>\n",
       "      <td>21</td>\n",
       "      <td>Verbalizzato</td>\n",
       "      <td>2021-02-23</td>\n",
       "    </tr>\n",
       "  </tbody>\n",
       "</table>\n",
       "</div>"
      ],
      "text/plain": [
       "  Descrizione insegnamento  Cfu      Voto   Stato Esito       Data\n",
       "0        PROGRAMMAZIONE II    6        19     Rifiutato 2021-02-24\n",
       "1        PROGRAMMAZIONE II    6        20  Verbalizzato 2021-02-24\n",
       "2        PROGRAMMAZIONE II    6        27  Verbalizzato 2021-02-24\n",
       "3        PROGRAMMAZIONE II    6        20  Verbalizzato 2021-02-24\n",
       "4        PROGRAMMAZIONE II    6  Respinto  Verbalizzato 2021-02-24\n",
       "5        PROGRAMMAZIONE II    6        26  Verbalizzato 2021-02-24\n",
       "6        PROGRAMMAZIONE II    6        20  Verbalizzato 2021-02-24\n",
       "7        PROGRAMMAZIONE II    6  Ritirato  Verbalizzato 2021-02-23\n",
       "8        PROGRAMMAZIONE II    6  Ritirato  Verbalizzato 2021-02-23\n",
       "9        PROGRAMMAZIONE II    6        21  Verbalizzato 2021-02-23"
      ]
     },
     "execution_count": 4,
     "metadata": {},
     "output_type": "execute_result"
    }
   ],
   "source": [
    "data = pd.read_excel('verbali-esami.xls')\n",
    "data.iloc[:10,3:8]"
   ]
  },
  {
   "cell_type": "code",
   "execution_count": 124,
   "id": "stupid-denmark",
   "metadata": {},
   "outputs": [],
   "source": [
    "insegnamenti = sorted(frozenset(data['Descrizione insegnamento']))\n",
    "appelli = lambda insegnamento: sorted(frozenset(data[data['Descrizione insegnamento'] == insegnamento].Data.dt.date))\n",
    "verbali = lambda insegnamento, appello: data[(data['Descrizione insegnamento'] == insegnamento) & (data.Data.dt.date == appello)]\n",
    "starts_with_digit = lambda _: _[0] in frozenset('0123456789')\n",
    "ends_with_digit = lambda _: _[-1] in frozenset('0123456789')\n",
    "perc = lambda _: (10000*_/sum(_)).astype(int)/100\n",
    "def hist(_):\n",
    "    perc(_.value_counts()).sort_index().plot.bar()\n",
    "count = lambda _: pd.DataFrame(_.value_counts().sort_index()).T"
   ]
  },
  {
   "cell_type": "code",
   "execution_count": 125,
   "id": "associate-classics",
   "metadata": {},
   "outputs": [
    {
     "data": {
      "application/vnd.jupyter.widget-view+json": {
       "model_id": "5b62b352c4df42eea6b6077074be0c2a",
       "version_major": 2,
       "version_minor": 0
      },
      "text/plain": [
       "HBox(children=(Select(description='Insegnamenti', options=('LINGUAGGI E TRADUTTORI', 'PROGRAMMAZIONE 1', 'PROG…"
      ]
     },
     "metadata": {},
     "output_type": "display_data"
    }
   ],
   "source": [
    "wins = widgets.Select(description = 'Insegnamenti')\n",
    "wdate = widgets.SelectMultiple(description = 'Date')\n",
    "wlabel = widgets.HTML(description = 'Selezione')\n",
    "\n",
    "def uwdate(change):\n",
    "    wdate.options = appelli(change.new)\n",
    "    wdate.value = wdate.options\n",
    "wins.observe(uwdate, names = 'value')\n",
    "\n",
    "def uselected(change):\n",
    "    global selected\n",
    "    selected = data[(data['Descrizione insegnamento'] == wins.value) & (data.Data.dt.date.isin(wdate.value))]\n",
    "    wlabel.value = \"<b>Verbali</b>: {}<br/><b>Iscritti</b>: {}\".format(len(selected), len(set(selected.Matricola)))\n",
    "        \n",
    "wdate.observe(uselected, names = 'value')    \n",
    "\n",
    "wins.options = insegnamenti\n",
    "wins.value = insegnamenti[0]\n",
    "wdate.options = wdate.value = appelli(insegnamenti[0])\n",
    "\n",
    "widgets.HBox([wins, wdate, wlabel])"
   ]
  },
  {
   "cell_type": "code",
   "execution_count": 126,
   "id": "super-louisville",
   "metadata": {},
   "outputs": [
    {
     "data": {
      "text/html": [
       "<div>\n",
       "<style scoped>\n",
       "    .dataframe tbody tr th:only-of-type {\n",
       "        vertical-align: middle;\n",
       "    }\n",
       "\n",
       "    .dataframe tbody tr th {\n",
       "        vertical-align: top;\n",
       "    }\n",
       "\n",
       "    .dataframe thead th {\n",
       "        text-align: right;\n",
       "    }\n",
       "</style>\n",
       "<table border=\"1\" class=\"dataframe\">\n",
       "  <thead>\n",
       "    <tr style=\"text-align: right;\">\n",
       "      <th></th>\n",
       "      <th>Matricola</th>\n",
       "      <th>Esito</th>\n",
       "    </tr>\n",
       "  </thead>\n",
       "  <tbody>\n",
       "    <tr>\n",
       "      <th>326</th>\n",
       "      <td>923197</td>\n",
       "      <td>Respinto</td>\n",
       "    </tr>\n",
       "    <tr>\n",
       "      <th>296</th>\n",
       "      <td>923353</td>\n",
       "      <td>18</td>\n",
       "    </tr>\n",
       "    <tr>\n",
       "      <th>297</th>\n",
       "      <td>934765</td>\n",
       "      <td>24</td>\n",
       "    </tr>\n",
       "    <tr>\n",
       "      <th>298</th>\n",
       "      <td>933671</td>\n",
       "      <td>Respinto</td>\n",
       "    </tr>\n",
       "    <tr>\n",
       "      <th>299</th>\n",
       "      <td>930814</td>\n",
       "      <td>~18</td>\n",
       "    </tr>\n",
       "  </tbody>\n",
       "</table>\n",
       "</div>"
      ],
      "text/plain": [
       "    Matricola     Esito\n",
       "326    923197  Respinto\n",
       "296    923353        18\n",
       "297    934765        24\n",
       "298    933671  Respinto\n",
       "299    930814       ~18"
      ]
     },
     "execution_count": 126,
     "metadata": {},
     "output_type": "execute_result"
    }
   ],
   "source": [
    "esiti = selected.sort_values('Data').apply(\n",
    "    lambda r: pd.Series({'Matricola': r.Matricola, 'Esito': ('~' + r.Voto if r['Stato Esito'] == 'Rifiutato' else r.Voto)}), axis = 1\n",
    ")[['Matricola', 'Esito']]\n",
    "\n",
    "esiti.head()"
   ]
  },
  {
   "cell_type": "code",
   "execution_count": 127,
   "id": "micro-cream",
   "metadata": {},
   "outputs": [
    {
     "data": {
      "text/plain": [
       "Matricola\n",
       "903870    RE\n",
       "917221    RE\n",
       "922686    RE\n",
       "922688    25\n",
       "922714    18\n",
       "Name: Esito, dtype: object"
      ]
     },
     "execution_count": 127,
     "metadata": {},
     "output_type": "execute_result"
    }
   ],
   "source": [
    "def euniq(e):\n",
    "    v = list(filter(starts_with_digit, e.values))\n",
    "    if v: return v[0]\n",
    "    v = list(filter(ends_with_digit, e.values))\n",
    "    if v: return max(v)\n",
    "    if 'Respinto' in e.values: return 'RE'\n",
    "    if 'Ritirato' in e.values: return 'RI'\n",
    "\n",
    "esiti_unici = esiti.groupby('Matricola').agg(euniq).Esito\n",
    "\n",
    "esiti_unici.head()"
   ]
  },
  {
   "cell_type": "code",
   "execution_count": 128,
   "id": "appreciated-preserve",
   "metadata": {},
   "outputs": [],
   "source": [
    "esiti_unici_sempl = esiti_unici.apply(\n",
    "    lambda _: 'OK' if starts_with_digit(_) else ('~' if _[0] == '~' else _)\n",
    ")\n",
    "\n",
    "esiti_unici_promossi = esiti_unici[esiti_unici.apply(starts_with_digit)].apply(\n",
    "    lambda _: 33 if _ == '30 e lode' else int(_)\n",
    ")"
   ]
  },
  {
   "cell_type": "code",
   "execution_count": 129,
   "id": "resistant-trash",
   "metadata": {},
   "outputs": [
    {
     "data": {
      "text/html": [
       "<div>\n",
       "<style scoped>\n",
       "    .dataframe tbody tr th:only-of-type {\n",
       "        vertical-align: middle;\n",
       "    }\n",
       "\n",
       "    .dataframe tbody tr th {\n",
       "        vertical-align: top;\n",
       "    }\n",
       "\n",
       "    .dataframe thead th {\n",
       "        text-align: right;\n",
       "    }\n",
       "</style>\n",
       "<table border=\"1\" class=\"dataframe\">\n",
       "  <thead>\n",
       "    <tr style=\"text-align: right;\">\n",
       "      <th></th>\n",
       "      <th>18</th>\n",
       "      <th>19</th>\n",
       "      <th>20</th>\n",
       "      <th>21</th>\n",
       "      <th>22</th>\n",
       "      <th>23</th>\n",
       "      <th>24</th>\n",
       "      <th>25</th>\n",
       "      <th>26</th>\n",
       "      <th>27</th>\n",
       "      <th>28</th>\n",
       "      <th>30</th>\n",
       "      <th>30 e lode</th>\n",
       "      <th>RE</th>\n",
       "      <th>RI</th>\n",
       "      <th>~19</th>\n",
       "    </tr>\n",
       "  </thead>\n",
       "  <tbody>\n",
       "    <tr>\n",
       "      <th>Esito</th>\n",
       "      <td>9</td>\n",
       "      <td>6</td>\n",
       "      <td>8</td>\n",
       "      <td>4</td>\n",
       "      <td>5</td>\n",
       "      <td>3</td>\n",
       "      <td>4</td>\n",
       "      <td>2</td>\n",
       "      <td>2</td>\n",
       "      <td>2</td>\n",
       "      <td>6</td>\n",
       "      <td>4</td>\n",
       "      <td>1</td>\n",
       "      <td>56</td>\n",
       "      <td>23</td>\n",
       "      <td>1</td>\n",
       "    </tr>\n",
       "  </tbody>\n",
       "</table>\n",
       "</div>"
      ],
      "text/plain": [
       "       18  19  20  21  22  23  24  25  26  27  28  30  30 e lode  RE  RI  ~19\n",
       "Esito   9   6   8   4   5   3   4   2   2   2   6   4          1  56  23    1"
      ]
     },
     "execution_count": 129,
     "metadata": {},
     "output_type": "execute_result"
    }
   ],
   "source": [
    "count(esiti_unici)"
   ]
  },
  {
   "cell_type": "code",
   "execution_count": 130,
   "id": "paperback-momentum",
   "metadata": {},
   "outputs": [
    {
     "data": {
      "text/html": [
       "<div>\n",
       "<style scoped>\n",
       "    .dataframe tbody tr th:only-of-type {\n",
       "        vertical-align: middle;\n",
       "    }\n",
       "\n",
       "    .dataframe tbody tr th {\n",
       "        vertical-align: top;\n",
       "    }\n",
       "\n",
       "    .dataframe thead th {\n",
       "        text-align: right;\n",
       "    }\n",
       "</style>\n",
       "<table border=\"1\" class=\"dataframe\">\n",
       "  <thead>\n",
       "    <tr style=\"text-align: right;\">\n",
       "      <th></th>\n",
       "      <th>OK</th>\n",
       "      <th>RE</th>\n",
       "      <th>RI</th>\n",
       "      <th>~</th>\n",
       "    </tr>\n",
       "  </thead>\n",
       "  <tbody>\n",
       "    <tr>\n",
       "      <th>Esito</th>\n",
       "      <td>56</td>\n",
       "      <td>56</td>\n",
       "      <td>23</td>\n",
       "      <td>1</td>\n",
       "    </tr>\n",
       "  </tbody>\n",
       "</table>\n",
       "</div>"
      ],
      "text/plain": [
       "       OK  RE  RI  ~\n",
       "Esito  56  56  23  1"
      ]
     },
     "execution_count": 130,
     "metadata": {},
     "output_type": "execute_result"
    }
   ],
   "source": [
    "count(esiti_unici_sempl)"
   ]
  },
  {
   "cell_type": "code",
   "execution_count": 131,
   "id": "solid-extraction",
   "metadata": {},
   "outputs": [
    {
     "data": {
      "image/png": "[encoded data removed]",
      "text/plain": [
       "<Figure size 432x288 with 1 Axes>"
      ]
     },
     "metadata": {
      "needs_background": "light"
     },
     "output_type": "display_data"
    }
   ],
   "source": [
    "hist(esiti_unici_sempl)"
   ]
  },
  {
   "cell_type": "code",
   "execution_count": 132,
   "id": "focal-hungarian",
   "metadata": {},
   "outputs": [
    {
     "data": {
      "image/png": "[encoded data removed]",
      "text/plain": [
       "<Figure size 432x288 with 1 Axes>"
      ]
     },
     "metadata": {
      "needs_background": "light"
     },
     "output_type": "display_data"
    }
   ],
   "source": [
    "hist(esiti_unici_promossi)"
   ]
  },
  {
   "cell_type": "code",
   "execution_count": 133,
   "id": "through-kennedy",
   "metadata": {},
   "outputs": [
    {
     "data": {
      "text/html": [
       "<div>\n",
       "<style scoped>\n",
       "    .dataframe tbody tr th:only-of-type {\n",
       "        vertical-align: middle;\n",
       "    }\n",
       "\n",
       "    .dataframe tbody tr th {\n",
       "        vertical-align: top;\n",
       "    }\n",
       "\n",
       "    .dataframe thead th {\n",
       "        text-align: right;\n",
       "    }\n",
       "</style>\n",
       "<table border=\"1\" class=\"dataframe\">\n",
       "  <thead>\n",
       "    <tr style=\"text-align: right;\">\n",
       "      <th></th>\n",
       "      <th>Esito</th>\n",
       "    </tr>\n",
       "    <tr>\n",
       "      <th>Matricola</th>\n",
       "      <th></th>\n",
       "    </tr>\n",
       "  </thead>\n",
       "  <tbody>\n",
       "    <tr>\n",
       "      <th>903870</th>\n",
       "      <td>(RE,)</td>\n",
       "    </tr>\n",
       "    <tr>\n",
       "      <th>917221</th>\n",
       "      <td>(RE, RE)</td>\n",
       "    </tr>\n",
       "    <tr>\n",
       "      <th>922686</th>\n",
       "      <td>(RI, RI, RI, RI, RI, RI, RE)</td>\n",
       "    </tr>\n",
       "    <tr>\n",
       "      <th>922688</th>\n",
       "      <td>(RE, ~18, 25)</td>\n",
       "    </tr>\n",
       "    <tr>\n",
       "      <th>922714</th>\n",
       "      <td>(18,)</td>\n",
       "    </tr>\n",
       "  </tbody>\n",
       "</table>\n",
       "</div>"
      ],
      "text/plain": [
       "                                  Esito\n",
       "Matricola                              \n",
       "903870                            (RE,)\n",
       "917221                         (RE, RE)\n",
       "922686     (RI, RI, RI, RI, RI, RI, RE)\n",
       "922688                    (RE, ~18, 25)\n",
       "922714                            (18,)"
      ]
     },
     "execution_count": 133,
     "metadata": {},
     "output_type": "execute_result"
    }
   ],
   "source": [
    "def emerge(e):\n",
    "    res = []\n",
    "    for v in e.values:\n",
    "        if starts_with_digit(v) or ends_with_digit(v): res.append(v)\n",
    "        if v == 'Respinto': res.append('RE')\n",
    "        if v == 'Ritirato': res.append('RI')\n",
    "    return tuple(res)\n",
    "\n",
    "patterns = esiti.groupby('Matricola').agg(emerge)\n",
    "\n",
    "patterns.head()"
   ]
  },
  {
   "cell_type": "code",
   "execution_count": 134,
   "id": "multiple-ideal",
   "metadata": {},
   "outputs": [
    {
     "data": {
      "text/html": [
       "<div>\n",
       "<style scoped>\n",
       "    .dataframe tbody tr th:only-of-type {\n",
       "        vertical-align: middle;\n",
       "    }\n",
       "\n",
       "    .dataframe tbody tr th {\n",
       "        vertical-align: top;\n",
       "    }\n",
       "\n",
       "    .dataframe thead th {\n",
       "        text-align: right;\n",
       "    }\n",
       "</style>\n",
       "<table border=\"1\" class=\"dataframe\">\n",
       "  <thead>\n",
       "    <tr style=\"text-align: right;\">\n",
       "      <th></th>\n",
       "      <th>Esito</th>\n",
       "    </tr>\n",
       "    <tr>\n",
       "      <th>Matricola</th>\n",
       "      <th></th>\n",
       "    </tr>\n",
       "  </thead>\n",
       "  <tbody>\n",
       "    <tr>\n",
       "      <th>903870</th>\n",
       "      <td>(RE,)</td>\n",
       "    </tr>\n",
       "    <tr>\n",
       "      <th>917221</th>\n",
       "      <td>(RE, RE)</td>\n",
       "    </tr>\n",
       "    <tr>\n",
       "      <th>922686</th>\n",
       "      <td>(RI, RI, RI, RI, RI, RI, RE)</td>\n",
       "    </tr>\n",
       "    <tr>\n",
       "      <th>922688</th>\n",
       "      <td>(RE, ~, OK)</td>\n",
       "    </tr>\n",
       "    <tr>\n",
       "      <th>922714</th>\n",
       "      <td>(OK,)</td>\n",
       "    </tr>\n",
       "  </tbody>\n",
       "</table>\n",
       "</div>"
      ],
      "text/plain": [
       "                                  Esito\n",
       "Matricola                              \n",
       "903870                            (RE,)\n",
       "917221                         (RE, RE)\n",
       "922686     (RI, RI, RI, RI, RI, RI, RE)\n",
       "922688                      (RE, ~, OK)\n",
       "922714                            (OK,)"
      ]
     },
     "execution_count": 134,
     "metadata": {},
     "output_type": "execute_result"
    }
   ],
   "source": [
    "def emerge_sempl(e):\n",
    "    res = []\n",
    "    for v in e.values:\n",
    "        if starts_with_digit(v): res.append('OK')\n",
    "        if v[0] == '~': res.append('~')\n",
    "        if v == 'Respinto': res.append('RE')\n",
    "        if v == 'Ritirato': res.append('RI')\n",
    "    return tuple(res)\n",
    "\n",
    "patterns_sempl = esiti.groupby('Matricola').agg(emerge_sempl)\n",
    "\n",
    "patterns_sempl.head()"
   ]
  },
  {
   "cell_type": "code",
   "execution_count": 135,
   "id": "wanted-lawyer",
   "metadata": {},
   "outputs": [],
   "source": [
    "patterns_len = patterns[patterns.Esito.apply(lambda _: starts_with_digit(_[-1]))].Esito.apply(len)"
   ]
  },
  {
   "cell_type": "code",
   "execution_count": 136,
   "id": "widespread-overview",
   "metadata": {},
   "outputs": [
    {
     "data": {
      "image/png": "[encoded data removed]",
      "text/plain": [
       "<Figure size 432x288 with 1 Axes>"
      ]
     },
     "metadata": {
      "needs_background": "light"
     },
     "output_type": "display_data"
    }
   ],
   "source": [
    "hist(patterns_len)"
   ]
  },
  {
   "cell_type": "code",
   "execution_count": 137,
   "id": "armed-skirt",
   "metadata": {},
   "outputs": [
    {
     "data": {
      "text/plain": [
       "RE RE RE RE RE           1\n",
       "RI RI OK                 1\n",
       "RI RE ~                  1\n",
       "RI ~ RE RE OK            1\n",
       "RE RI OK                 1\n",
       "RE RI RI RI RE RE        1\n",
       "RI RI RI                 1\n",
       "RI RE RI                 1\n",
       "RI RI RE RE RE           1\n",
       "RI RE RE OK              1\n",
       "RE RI RE RI              1\n",
       "~ RE OK                  1\n",
       "RE RI RE RE              1\n",
       "RE ~ OK                  1\n",
       "RI RI RI RI RI RI RE     1\n",
       "RE RE RE OK              2\n",
       "RI RI RE                 2\n",
       "~ OK                     2\n",
       "RE RI                    4\n",
       "RI RE                    5\n",
       "RI OK                    5\n",
       "RI RE RE                 5\n",
       "RE RE RE                 6\n",
       "RE RE OK                 8\n",
       "RE RE                    9\n",
       "RI RI                    9\n",
       "RE OK                   12\n",
       "RI                      13\n",
       "RE                      18\n",
       "OK                      21\n",
       "Name: Esito, dtype: int64"
      ]
     },
     "execution_count": 137,
     "metadata": {},
     "output_type": "execute_result"
    }
   ],
   "source": [
    "patterns_sempl.Esito.apply(' '.join).value_counts(ascending = True)#.plot.barh(figsize=(8,10))"
   ]
  },
  {
   "cell_type": "code",
   "execution_count": null,
   "id": "geological-twenty",
   "metadata": {},
   "outputs": [],
   "source": []
  }
 ],
 "metadata": {
  "kernelspec": {
   "display_name": "Python 3",
   "language": "python",
   "name": "python3"
  },
  "language_info": {
   "codemirror_mode": {
    "name": "ipython",
    "version": 3
   },
   "file_extension": ".py",
   "mimetype": "text/x-python",
   "name": "python",
   "nbconvert_exporter": "python",
   "pygments_lexer": "ipython3",
   "version": "3.9.1"
  }
 },
 "nbformat": 4,
 "nbformat_minor": 5
}
